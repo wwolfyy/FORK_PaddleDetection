{
 "cells": [
  {
   "cell_type": "markdown",
   "metadata": {},
   "source": [
    "## CDLA dataset needs fixing on labels\n",
    "#### remove __background__ label\n",
    "#### add new labels to use with KR cases"
   ]
  },
  {
   "cell_type": "code",
   "execution_count": 17,
   "metadata": {},
   "outputs": [],
   "source": [
    "import json\n",
    "\n",
    "existing_label_root = '/home/lstm/github/PaddleDetection/dataset/_CDLA_DATASET/coco'\n",
    "additional_labels_path = '/home/lstm/github/PaddleDetection/dataset/_KRCASE_20240516/labels_fixed.json'\n"
   ]
  },
  {
   "cell_type": "code",
   "execution_count": 29,
   "metadata": {},
   "outputs": [
    {
     "data": {
      "text/plain": [
       "dict_keys(['info', 'licenses', 'images', 'type', 'annotations', 'categories'])"
      ]
     },
     "execution_count": 29,
     "metadata": {},
     "output_type": "execute_result"
    }
   ],
   "source": [
    "currentset = 'train'\n",
    "existing_annot = f'{existing_label_root}/{currentset}.json'\n",
    "\n",
    "with open(existing_annot, 'r') as file:\n",
    "    json_data = json.load(file)\n",
    "\n",
    "json_data.keys()"
   ]
  },
  {
   "cell_type": "code",
   "execution_count": 30,
   "metadata": {},
   "outputs": [
    {
     "data": {
      "text/plain": [
       "[{'supercategory': None, 'id': 0, 'name': '_background_'},\n",
       " {'supercategory': None, 'id': 1, 'name': 'Text'},\n",
       " {'supercategory': None, 'id': 2, 'name': 'Title'},\n",
       " {'supercategory': None, 'id': 3, 'name': 'Figure'},\n",
       " {'supercategory': None, 'id': 4, 'name': 'Figure caption'},\n",
       " {'supercategory': None, 'id': 5, 'name': 'Table'},\n",
       " {'supercategory': None, 'id': 6, 'name': 'Table caption'},\n",
       " {'supercategory': None, 'id': 7, 'name': 'Header'},\n",
       " {'supercategory': None, 'id': 8, 'name': 'Footer'},\n",
       " {'supercategory': None, 'id': 9, 'name': 'Reference'},\n",
       " {'supercategory': None, 'id': 10, 'name': 'Equation'}]"
      ]
     },
     "execution_count": 30,
     "metadata": {},
     "output_type": "execute_result"
    }
   ],
   "source": [
    "# inspect labels\n",
    "json_data['categories']"
   ]
  },
  {
   "cell_type": "code",
   "execution_count": 31,
   "metadata": {},
   "outputs": [],
   "source": [
    "# remove categories with name _background_\n",
    "temp = json_data['categories']\n",
    "# print(temp)\n",
    "tmp = [item for item in temp if item['name']!='_background_']\n",
    "json_data['categories'] = tmp\n"
   ]
  },
  {
   "cell_type": "code",
   "execution_count": 32,
   "metadata": {},
   "outputs": [
    {
     "data": {
      "text/plain": [
       "[{'supercategory': None, 'id': 1, 'name': 'Text'},\n",
       " {'supercategory': None, 'id': 2, 'name': 'Title'},\n",
       " {'supercategory': None, 'id': 3, 'name': 'Figure'},\n",
       " {'supercategory': None, 'id': 4, 'name': 'Figure caption'},\n",
       " {'supercategory': None, 'id': 5, 'name': 'Table'},\n",
       " {'supercategory': None, 'id': 6, 'name': 'Table caption'},\n",
       " {'supercategory': None, 'id': 7, 'name': 'Header'},\n",
       " {'supercategory': None, 'id': 8, 'name': 'Footer'},\n",
       " {'supercategory': None, 'id': 9, 'name': 'Reference'},\n",
       " {'supercategory': None, 'id': 10, 'name': 'Equation'}]"
      ]
     },
     "execution_count": 32,
     "metadata": {},
     "output_type": "execute_result"
    }
   ],
   "source": [
    "# inspect new labels\n",
    "json_data['categories']"
   ]
  },
  {
   "cell_type": "code",
   "execution_count": 33,
   "metadata": {},
   "outputs": [],
   "source": [
    "# load additional labels\n",
    "with open(additional_labels_path, 'r') as file:\n",
    "    additional_labels = json.load(file)\n",
    "additional_labels['categories']\n",
    "\n",
    "# conform to existing label format\n",
    "temp = [{**el, 'supercategory':None} for el in additional_labels['categories']]\n"
   ]
  },
  {
   "cell_type": "code",
   "execution_count": 34,
   "metadata": {},
   "outputs": [
    {
     "data": {
      "text/plain": [
       "[{'id': 1, 'name': 'Text', 'supercategory': None},\n",
       " {'id': 2, 'name': 'Title', 'supercategory': None},\n",
       " {'id': 3, 'name': 'Figure', 'supercategory': None},\n",
       " {'id': 4, 'name': 'Figure caption', 'supercategory': None},\n",
       " {'id': 5, 'name': 'Table', 'supercategory': None},\n",
       " {'id': 6, 'name': 'Table caption', 'supercategory': None},\n",
       " {'id': 7, 'name': 'Header', 'supercategory': None},\n",
       " {'id': 8, 'name': 'Footer', 'supercategory': None},\n",
       " {'id': 9, 'name': 'Reference', 'supercategory': None},\n",
       " {'id': 10, 'name': 'Equation', 'supercategory': None},\n",
       " {'id': 11, 'name': 'block_quote', 'supercategory': None},\n",
       " {'id': 12, 'name': 'box_quote', 'supercategory': None},\n",
       " {'id': 13, 'name': 'caption_block', 'supercategory': None},\n",
       " {'id': 14, 'name': 'claim', 'supercategory': None},\n",
       " {'id': 15, 'name': 'fn_marker', 'supercategory': None},\n",
       " {'id': 16, 'name': 'header_image', 'supercategory': None},\n",
       " {'id': 17, 'name': 'list_item', 'supercategory': None},\n",
       " {'id': 18, 'name': 'section_header', 'supercategory': None},\n",
       " {'id': 19, 'name': 'sig_block', 'supercategory': None},\n",
       " {'id': 20, 'name': 'header_text', 'supercategory': None}]"
      ]
     },
     "execution_count": 34,
     "metadata": {},
     "output_type": "execute_result"
    }
   ],
   "source": [
    "temp"
   ]
  },
  {
   "cell_type": "code",
   "execution_count": 35,
   "metadata": {},
   "outputs": [],
   "source": [
    "# replace existing labels with additional labels\n",
    "json_data['categories'] = temp"
   ]
  },
  {
   "cell_type": "code",
   "execution_count": 36,
   "metadata": {},
   "outputs": [],
   "source": [
    "# save json_data to file\n",
    "with open(f'{existing_label_root}/{currentset}_.json', 'w') as file:\n",
    "    json.dump(json_data, file)"
   ]
  },
  {
   "cell_type": "code",
   "execution_count": 37,
   "metadata": {},
   "outputs": [
    {
     "name": "stdout",
     "output_type": "stream",
     "text": [
      "dict_keys(['info', 'licenses', 'images', 'type', 'annotations', 'categories'])\n"
     ]
    },
    {
     "data": {
      "text/plain": [
       "[{'id': 1, 'name': 'Text', 'supercategory': None},\n",
       " {'id': 2, 'name': 'Title', 'supercategory': None},\n",
       " {'id': 3, 'name': 'Figure', 'supercategory': None},\n",
       " {'id': 4, 'name': 'Figure caption', 'supercategory': None},\n",
       " {'id': 5, 'name': 'Table', 'supercategory': None},\n",
       " {'id': 6, 'name': 'Table caption', 'supercategory': None},\n",
       " {'id': 7, 'name': 'Header', 'supercategory': None},\n",
       " {'id': 8, 'name': 'Footer', 'supercategory': None},\n",
       " {'id': 9, 'name': 'Reference', 'supercategory': None},\n",
       " {'id': 10, 'name': 'Equation', 'supercategory': None},\n",
       " {'id': 11, 'name': 'block_quote', 'supercategory': None},\n",
       " {'id': 12, 'name': 'box_quote', 'supercategory': None},\n",
       " {'id': 13, 'name': 'caption_block', 'supercategory': None},\n",
       " {'id': 14, 'name': 'claim', 'supercategory': None},\n",
       " {'id': 15, 'name': 'fn_marker', 'supercategory': None},\n",
       " {'id': 16, 'name': 'header_image', 'supercategory': None},\n",
       " {'id': 17, 'name': 'list_item', 'supercategory': None},\n",
       " {'id': 18, 'name': 'section_header', 'supercategory': None},\n",
       " {'id': 19, 'name': 'sig_block', 'supercategory': None},\n",
       " {'id': 20, 'name': 'header_text', 'supercategory': None}]"
      ]
     },
     "execution_count": 37,
     "metadata": {},
     "output_type": "execute_result"
    }
   ],
   "source": [
    "# verify\n",
    "with open(f'{existing_label_root}/{currentset}_.json', 'r') as file:\n",
    "    json_data_ = json.load(file)\n",
    "\n",
    "print(json_data_.keys())\n",
    "json_data['categories']"
   ]
  },
  {
   "cell_type": "code",
   "execution_count": null,
   "metadata": {},
   "outputs": [],
   "source": []
  }
 ],
 "metadata": {
  "kernelspec": {
   "display_name": "Python 3",
   "language": "python",
   "name": "python3"
  },
  "language_info": {
   "codemirror_mode": {
    "name": "ipython",
    "version": 3
   },
   "file_extension": ".py",
   "mimetype": "text/x-python",
   "name": "python",
   "nbconvert_exporter": "python",
   "pygments_lexer": "ipython3",
   "version": "3.8.19"
  }
 },
 "nbformat": 4,
 "nbformat_minor": 2
}
