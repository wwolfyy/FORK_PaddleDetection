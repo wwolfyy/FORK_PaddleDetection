{
 "cells": [
  {
   "cell_type": "code",
   "execution_count": null,
   "metadata": {},
   "outputs": [],
   "source": []
  },
  {
   "cell_type": "code",
   "execution_count": null,
   "metadata": {},
   "outputs": [],
   "source": [
    "python tools/x2coco.py \\\n",
    "                --dataset_type labelme \\\n",
    "                --json_input_dir ./labelme_annos/ \\\n",
    "                --image_input_dir ./labelme_imgs/ \\\n",
    "                --output_dir ./cocome/ \\\n",
    "                --train_proportion 0.8 \\\n",
    "                --val_proportion 0.2 \\\n",
    "                --test_proportion 0.0"
   ]
  }
 ],
 "metadata": {
  "language_info": {
   "name": "python"
  }
 },
 "nbformat": 4,
 "nbformat_minor": 2
}
