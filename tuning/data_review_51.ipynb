{
 "cells": [
  {
   "cell_type": "code",
   "execution_count": null,
   "metadata": {},
   "outputs": [],
   "source": [
    "# !pip install fiftyone"
   ]
  },
  {
   "cell_type": "code",
   "execution_count": 1,
   "metadata": {},
   "outputs": [],
   "source": [
    "import fiftyone as fo\n",
    "# import fiftyone.zoo as foz"
   ]
  },
  {
   "cell_type": "code",
   "execution_count": null,
   "metadata": {},
   "outputs": [],
   "source": [
    "# name = 'CDLA_dataset'\n",
    "# dataset_dir = '/home/lstm/fiftyone/_CDLA_DATASET/coco'\n",
    "\n",
    "# name = 'KRCASEdataset'\n",
    "# dataset_path = '../dataset/_KRCASE_20240516'\n",
    "# label_path = '..dataset/_KRCASE_20240516/labels_fixed.json'\n",
    "\n",
    "# dataset_type = fo.types.COCODetectionDataset\n",
    "\n",
    "# dataset = fo.Dataset.from_dir(\n",
    "#     # dataset_dir=dataset_dir,\n",
    "#     dataset_path=dataset_path,\n",
    "#     dataset_type=dataset_type,\n",
    "#     include_id=True\n",
    "#     # name=name,\n",
    "# )\n",
    "\n",
    "# print(dataset)\n",
    "\n",
    "# sample = dataset.first()\n",
    "# print(sample)\n",
    "\n",
    "# # Open the dataset in the App\n",
    "# session = fo.launch_app(dataset)"
   ]
  },
  {
   "cell_type": "code",
   "execution_count": 2,
   "metadata": {},
   "outputs": [
    {
     "name": "stdout",
     "output_type": "stream",
     "text": [
      " 100% |█████████████████| 199/199 [1.2s elapsed, 0s remaining, 173.1 samples/s]         \n",
      "Connected to FiftyOne on port 5151 at localhost.\n",
      "If you are not connecting to a remote session, you may need to start a new session and specify a port\n"
     ]
    },
    {
     "data": {
      "text/html": [
       "\n",
       "        <iframe\n",
       "            width=\"100%\"\n",
       "            height=\"800\"\n",
       "            src=\"http://localhost:5151/?notebook=True&subscription=65007218-2f87-418b-9acb-d129104c22fa\"\n",
       "            frameborder=\"0\"\n",
       "            allowfullscreen\n",
       "            \n",
       "        ></iframe>\n",
       "        "
      ],
      "text/plain": [
       "<IPython.lib.display.IFrame at 0x7afadc64fa90>"
      ]
     },
     "metadata": {},
     "output_type": "display_data"
    }
   ],
   "source": [
    "coco_dataset = fo.Dataset.from_dir(\n",
    "    dataset_type=fo.types.COCODetectionDataset,\n",
    "    data_path='/home/lstm/github/PaddleDetection/dataset/_KRCASE_20240516/train',\n",
    "    labels_path=\"/home/lstm/github/PaddleDetection/dataset/_KRCASE_20240516/labels_fixed.json\",\n",
    "    include_id=True\n",
    ")\n",
    "\n",
    "# coco_dataset = fo.Dataset.from_dir(\n",
    "#     dataset_type=fo.types.COCODetectionDataset,\n",
    "#     data_path='/home/lstm/github/PaddleDetection/dataset/_CDLA_DATASET/coco/val',\n",
    "#     labels_path=\"/home/lstm/github/PaddleDetection/dataset/_CDLA_DATASET/coco/val.json\",\n",
    "#     include_id=True\n",
    "# )\n",
    "\n",
    "session = fo.launch_app(coco_dataset)\n",
    "\n",
    "\n",
    "# http://localhost:5151"
   ]
  },
  {
   "cell_type": "code",
   "execution_count": null,
   "metadata": {},
   "outputs": [],
   "source": [
    "plot1 = fo.CategoricalHistogram(\"detections.detections.label\", order='frequency')\n",
    "plot2 = fo.CategoricalHistogram(\"detections.detections.score\", order='frequency')\n",
    "plot = fo.ViewGrid([plot1, plot2], init_view=coco_dataset)\n",
    "plot.show(height=720)\n",
    "# session.plots.attach(plot)"
   ]
  },
  {
   "cell_type": "code",
   "execution_count": null,
   "metadata": {},
   "outputs": [],
   "source": [
    "import fiftyone.brain as fob\n",
    "import numpy as np\n",
    "import cv2\n",
    "\n",
    "images = np.array([\n",
    "    cv2.imread(f, cv2.IMREAD_UNCHANGED).ravel()\n",
    "    for f in coco_dataset.values(\"filepath\")\n",
    "])"
   ]
  },
  {
   "cell_type": "code",
   "execution_count": null,
   "metadata": {},
   "outputs": [],
   "source": [
    "dir(coco_dataset)"
   ]
  },
  {
   "cell_type": "code",
   "execution_count": null,
   "metadata": {},
   "outputs": [],
   "source": []
  }
 ],
 "metadata": {
  "kernelspec": {
   "display_name": "pp261",
   "language": "python",
   "name": "python3"
  },
  "language_info": {
   "codemirror_mode": {
    "name": "ipython",
    "version": 3
   },
   "file_extension": ".py",
   "mimetype": "text/x-python",
   "name": "python",
   "nbconvert_exporter": "python",
   "pygments_lexer": "ipython3",
   "version": "3.11.9"
  }
 },
 "nbformat": 4,
 "nbformat_minor": 2
}
