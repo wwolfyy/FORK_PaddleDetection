{
 "cells": [
  {
   "cell_type": "markdown",
   "metadata": {},
   "source": [
    "# Process benchmarks"
   ]
  },
  {
   "cell_type": "code",
   "execution_count": 1,
   "metadata": {},
   "outputs": [
    {
     "name": "stdout",
     "output_type": "stream",
     "text": [
      "Running verify PaddlePaddle program ... \n"
     ]
    },
    {
     "name": "stderr",
     "output_type": "stream",
     "text": [
      "I0519 19:05:32.553961 2683363 program_interpreter.cc:212] New Executor is Running.\n",
      "W0519 19:05:32.554301 2683363 gpu_resources.cc:119] Please NOTE: device: 0, GPU Compute Capability: 7.5, Driver API Version: 12.4, Runtime API Version: 11.8\n",
      "W0519 19:05:32.555276 2683363 gpu_resources.cc:164] device: 0, cuDNN Version: 8.8.\n",
      "I0519 19:05:32.744210 2683363 interpreter_util.cc:624] Standalone Executor is Used.\n"
     ]
    },
    {
     "name": "stdout",
     "output_type": "stream",
     "text": [
      "PaddlePaddle works well on 1 GPU.\n",
      "PaddlePaddle is installed successfully! Let's start deep learning with PaddlePaddle now.\n",
      "/bin/bash: /home/lstm/miniconda3/envs/pp261/lib/libtinfo.so.6: no version information available (required by /bin/bash)\n",
      "/home/lstm/github/PaddleDetection/tuning\n"
     ]
    }
   ],
   "source": [
    "import subprocess, os, time, json\n",
    "import fitz\n",
    "import paddle\n",
    "paddle.utils.run_check()\n",
    "\n",
    "!export CUDA_VISIBLE_DEVICES=0\n",
    "\n",
    "print(os.getcwd())"
   ]
  },
  {
   "cell_type": "markdown",
   "metadata": {},
   "source": [
    "### Tuning w/ PubLayNet data & default architecure"
   ]
  },
  {
   "cell_type": "code",
   "execution_count": 2,
   "metadata": {},
   "outputs": [
    {
     "name": "stdout",
     "output_type": "stream",
     "text": [
      "python3 ../tools/train.py -c ../configs/picodet/legacy_model/application/layout_analysis/picodet_lcnet_x1_0_layout.yml --eval\n"
     ]
    }
   ],
   "source": [
    "# Single GPU\n",
    "command = (\n",
    "    \"python3 ../tools/train.py\",\n",
    "    \"-c ../configs/picodet/legacy_model/application/layout_analysis/picodet_lcnet_x1_0_layout.yml\",\n",
    "    # \"--slim_config ../configs/picodet/legacy_model/application/layout_analysis/krcase_layout_distill.yml\",\n",
    "    \"--eval\",\n",
    "    # f\"--use_vdl=True --vdl_log_dir=vdl_log/{time.strftime('%Y%m%d-%H%M%S')}\",\n",
    "    )\n",
    "command = \" \".join(command)\n",
    "print(command)"
   ]
  },
  {
   "cell_type": "code",
   "execution_count": 3,
   "metadata": {},
   "outputs": [
    {
     "name": "stdout",
     "output_type": "stream",
     "text": [
      "/bin/bash: /home/lstm/miniconda3/envs/pp261/lib/libtinfo.so.6: no version information available (required by /bin/bash)\n",
      "loading annotations into memory...\n",
      "Done (t=45.81s)\n",
      "creating index...\n",
      "index created!\n",
      "[05/19 19:06:28] ppdet.data.source.coco WARNING: Found an invalid bbox in annotations: im_id: 2801, area: 0.0 x1: 134.76, y1: 68.22, x2: 134.76, y2: 68.22.\n",
      "[05/19 19:06:29] ppdet.data.source.coco WARNING: Found an invalid bbox in annotations: im_id: 9464, area: 0.25001179426908493 x1: 47.03, y1: 651.98, x2: 562.5699999999999, y2: 651.98.\n",
      "[05/19 19:06:30] ppdet.data.source.coco WARNING: Found an invalid bbox in annotations: im_id: 15621, area: 0.0 x1: 50.35, y1: 64.0, x2: 560.85, y2: 64.0.\n",
      "[05/19 19:06:30] ppdet.data.source.coco WARNING: Found an invalid bbox in annotations: im_id: 15622, area: 0.0 x1: 50.35, y1: 64.0, x2: 560.85, y2: 64.0.\n",
      "[05/19 19:06:30] ppdet.data.source.coco WARNING: Found an invalid bbox in annotations: im_id: 17425, area: 0.0 x1: 62.0, y1: 562.79, x2: 558.0, y2: 562.79.\n",
      "[05/19 19:06:31] ppdet.data.source.coco WARNING: Found an invalid bbox in annotations: im_id: 25387, area: 0.0 x1: 74.43, y1: 595.22, x2: 547.38, y2: 595.22.\n",
      "[05/19 19:06:31] ppdet.data.source.coco WARNING: Found an invalid bbox in annotations: im_id: 28519, area: 0.0 x1: 46.49, y1: 675.45, x2: 550.49, y2: 675.45.\n",
      "[05/19 19:06:32] ppdet.data.source.coco WARNING: Found an invalid bbox in annotations: im_id: 41757, area: 0.0 x1: 60.0, y1: 501.7, x2: 558.0, y2: 501.7.\n",
      "[05/19 19:06:32] ppdet.data.source.coco WARNING: Found an invalid bbox in annotations: im_id: 43873, area: 0.0 x1: 52.16, y1: 605.14, x2: 543.05, y2: 605.14.\n",
      "[05/19 19:06:36] ppdet.data.source.coco WARNING: Found an invalid bbox in annotations: im_id: 82166, area: 0.0 x1: 49.04, y1: 624.14, x2: 527.25, y2: 624.14.\n",
      "[05/19 19:06:43] ppdet.data.source.coco WARNING: Found an invalid bbox in annotations: im_id: 118032, area: 0.0 x1: 54.42, y1: 93.83, x2: 525.8199999999999, y2: 93.83.\n",
      "[05/19 19:06:44] ppdet.data.source.coco WARNING: Found an invalid bbox in annotations: im_id: 125637, area: 0.0 x1: 56.69, y1: 495.57, x2: 536.5899999999999, y2: 495.57.\n",
      "[05/19 19:06:44] ppdet.data.source.coco WARNING: Found an invalid bbox in annotations: im_id: 126754, area: 0.0 x1: 48.0, y1: 652.92, x2: 546.0, y2: 652.92.\n",
      "[05/19 19:06:45] ppdet.data.source.coco WARNING: Found an invalid bbox in annotations: im_id: 136511, area: 0.0 x1: 43.6, y1: 566.58, x2: 552.45, y2: 566.58.\n",
      "[05/19 19:06:45] ppdet.data.source.coco WARNING: Found an invalid bbox in annotations: im_id: 140487, area: 0.0 x1: 58.88, y1: 567.97, x2: 537.82, y2: 567.97.\n",
      "[05/19 19:06:45] ppdet.data.source.coco WARNING: Found an invalid bbox in annotations: im_id: 145401, area: 0.0 x1: 40.72, y1: 666.86, x2: 554.5600000000001, y2: 666.86.\n",
      "[05/19 19:06:47] ppdet.data.source.coco WARNING: Found an invalid bbox in annotations: im_id: 164955, area: 0.0 x1: 46.49, y1: 573.8, x2: 550.52, y2: 573.8.\n",
      "[05/19 19:06:47] ppdet.data.source.coco WARNING: Found an invalid bbox in annotations: im_id: 164956, area: 0.0 x1: 46.52, y1: 639.81, x2: 550.52, y2: 639.81.\n",
      "[05/19 19:06:47] ppdet.data.source.coco WARNING: Found an invalid bbox in annotations: im_id: 165967, area: 0.0 x1: 36.85, y1: 663.77, x2: 558.4200000000001, y2: 663.77.\n",
      "[05/19 19:06:47] ppdet.data.source.coco WARNING: Found an invalid bbox in annotations: im_id: 167010, area: 0.0 x1: 51.02, y1: 596.88, x2: 546.37, y2: 596.88.\n",
      "[05/19 19:06:48] ppdet.data.source.coco WARNING: Found an invalid bbox in annotations: im_id: 177450, area: 0.0 x1: 46.0, y1: 681.92, x2: 554.0, y2: 681.92.\n",
      "[05/19 19:06:48] ppdet.data.source.coco WARNING: Found an invalid bbox in annotations: im_id: 177470, area: 0.0 x1: 58.0, y1: 600.79, x2: 566.0, y2: 600.79.\n",
      "[05/19 19:06:49] ppdet.data.source.coco WARNING: Found an invalid bbox in annotations: im_id: 179619, area: 0.0 x1: 40.5, y1: 623.0, x2: 544.5, y2: 623.0.\n",
      "[05/19 19:06:50] ppdet.data.source.coco WARNING: Found an invalid bbox in annotations: im_id: 194001, area: 0.0 x1: 34.11, y1: 577.96, x2: 542.0699999999999, y2: 577.96.\n",
      "[05/19 19:06:50] ppdet.data.source.coco WARNING: Found an invalid bbox in annotations: im_id: 194607, area: 0.0 x1: 39.0, y1: 659.75, x2: 555.0, y2: 659.75.\n",
      "[05/19 19:06:50] ppdet.data.source.coco WARNING: Found an invalid bbox in annotations: im_id: 195466, area: 0.0 x1: 55.14, y1: 119.28, x2: 55.14, y2: 213.42000000000002.\n",
      "[05/19 19:06:51] ppdet.data.source.coco WARNING: Found an invalid bbox in annotations: im_id: 199546, area: 0.0 x1: 51.68, y1: 512.36, x2: 291.68, y2: 512.36.\n",
      "[05/19 19:06:51] ppdet.data.source.coco WARNING: Found an invalid bbox in annotations: im_id: 199547, area: 0.0 x1: 51.68, y1: 597.36, x2: 291.68, y2: 597.36.\n",
      "[05/19 19:06:51] ppdet.data.source.coco WARNING: Found an invalid bbox in annotations: im_id: 200589, area: 0.0 x1: 43.94, y1: 498.96, x2: 293.13, y2: 498.96.\n",
      "[05/19 19:06:52] ppdet.data.source.coco WARNING: Found an invalid bbox in annotations: im_id: 211477, area: 0.0 x1: 59.84, y1: 656.54, x2: 538.05, y2: 656.54.\n",
      "[05/19 19:06:52] ppdet.data.source.coco WARNING: Found an invalid bbox in annotations: im_id: 213399, area: 0.0 x1: 109.29, y1: 643.41, x2: 152.08, y2: 643.41.\n",
      "[05/19 19:06:52] ppdet.data.source.coco WARNING: Found an invalid bbox in annotations: im_id: 213400, area: 0.0 x1: 102.83, y1: 640.93, x2: 147.25, y2: 640.93.\n",
      "[05/19 19:06:52] ppdet.data.source.coco WARNING: Found an invalid bbox in annotations: im_id: 213411, area: 0.0 x1: 110.92, y1: 649.15, x2: 154.28, y2: 649.15.\n",
      "[05/19 19:06:52] ppdet.data.source.coco WARNING: Found an invalid bbox in annotations: im_id: 213412, area: 0.0 x1: 113.75, y1: 649.24, x2: 156.23, y2: 649.24.\n",
      "[05/19 19:06:52] ppdet.data.source.coco WARNING: Found an invalid bbox in annotations: im_id: 216126, area: 0.0 x1: 46.49, y1: 530.77, x2: 550.49, y2: 530.77.\n",
      "[05/19 19:06:52] ppdet.data.source.coco WARNING: Found an invalid bbox in annotations: im_id: 216147, area: 0.0 x1: 65.2, y1: 619.89, x2: 530.08, y2: 619.89.\n",
      "[05/19 19:06:53] ppdet.data.source.coco WARNING: Found an invalid bbox in annotations: im_id: 224102, area: 0.0 x1: 46.49, y1: 655.1, x2: 550.49, y2: 655.1.\n",
      "[05/19 19:06:53] ppdet.data.source.coco WARNING: Found an invalid bbox in annotations: im_id: 228300, area: 0.0 x1: 69.73, y1: 517.11, x2: 541.42, y2: 517.11.\n",
      "[05/19 19:06:53] ppdet.data.source.coco WARNING: Found an invalid bbox in annotations: im_id: 228308, area: 0.0 x1: 69.73, y1: 581.68, x2: 541.42, y2: 581.68.\n",
      "[05/19 19:06:55] ppdet.data.source.coco WARNING: Found an invalid bbox in annotations: im_id: 244847, area: 0.0 x1: 48.31, y1: 88.75, x2: 538.48, y2: 88.75.\n",
      "[05/19 19:06:55] ppdet.data.source.coco WARNING: Found an invalid bbox in annotations: im_id: 244850, area: 0.0 x1: 48.31, y1: 577.75, x2: 538.48, y2: 577.75.\n",
      "[05/19 19:06:55] ppdet.data.source.coco WARNING: Found an invalid bbox in annotations: im_id: 247781, area: 0.0 x1: 44.79, y1: 665.66, x2: 548.79, y2: 665.66.\n",
      "[05/19 19:06:56] ppdet.data.source.coco WARNING: Found an invalid bbox in annotations: im_id: 251827, area: 0.0 x1: 58.59, y1: 541.51, x2: 537.53, y2: 541.51.\n",
      "[05/19 19:06:56] ppdet.data.source.coco WARNING: Found an invalid bbox in annotations: im_id: 257561, area: 0.0 x1: 30.74, y1: 630.11, x2: 552.1800000000001, y2: 630.11.\n",
      "[05/19 19:06:56] ppdet.data.source.coco WARNING: Found an invalid bbox in annotations: im_id: 257562, area: 0.0 x1: 30.74, y1: 647.27, x2: 552.1800000000001, y2: 647.27.\n",
      "[05/19 19:06:57] ppdet.data.source.coco WARNING: Found an invalid bbox in annotations: im_id: 271819, area: 0.0 x1: 69.73, y1: 545.46, x2: 541.42, y2: 545.46.\n",
      "[05/19 19:06:57] ppdet.data.source.coco WARNING: Found an invalid bbox in annotations: im_id: 271835, area: 0.0 x1: 69.73, y1: 597.61, x2: 541.42, y2: 597.61.\n",
      "[05/19 19:06:57] ppdet.data.source.coco WARNING: Found an invalid bbox in annotations: im_id: 271845, area: 0.0 x1: 69.73, y1: 628.79, x2: 541.42, y2: 628.79.\n",
      "[05/19 19:06:58] ppdet.data.source.coco WARNING: Found an invalid bbox in annotations: im_id: 277289, area: 0.0 x1: 40.72, y1: 609.86, x2: 554.5600000000001, y2: 609.86.\n",
      "[05/19 19:07:00] ppdet.data.source.coco WARNING: Found an invalid bbox in annotations: im_id: 298493, area: 0.0 x1: 53.86, y1: 651.87, x2: 534.05, y2: 651.87.\n",
      "[05/19 19:07:00] ppdet.data.source.coco WARNING: Found an invalid bbox in annotations: im_id: 298494, area: 0.0 x1: 53.86, y1: 652.44, x2: 534.05, y2: 652.44.\n",
      "[05/19 19:07:00] ppdet.data.source.coco WARNING: Found an invalid bbox in annotations: im_id: 298495, area: 0.0 x1: 53.86, y1: 651.59, x2: 534.05, y2: 651.59.\n",
      "[05/19 19:07:00] ppdet.data.source.coco WARNING: Found an invalid bbox in annotations: im_id: 300353, area: 0.0 x1: 60.95, y1: 369.02, x2: 541.4200000000001, y2: 369.02.\n",
      "[05/19 19:07:00] ppdet.data.source.coco WARNING: Found an invalid bbox in annotations: im_id: 306025, area: 2.9103830456733704e-11 x1: 566.78, y1: 94.05, x2: 566.78, y2: 260.29.\n",
      "[05/19 19:07:01] ppdet.data.source.coco WARNING: Found an invalid bbox in annotations: im_id: 306855, area: 0.0 x1: 45.0, y1: 630.51, x2: 549.0, y2: 630.51.\n",
      "[05/19 19:07:01] ppdet.data.source.coco WARNING: Found an invalid bbox in annotations: im_id: 306856, area: 0.0 x1: 45.0, y1: 610.51, x2: 549.0, y2: 610.51.\n",
      "[05/19 19:07:01] ppdet.data.source.coco WARNING: Found an invalid bbox in annotations: im_id: 316962, area: 0.0 x1: 57.09, y1: 508.95, x2: 545.78, y2: 508.95.\n",
      "[05/19 19:07:02] ppdet.data.source.coco WARNING: Found an invalid bbox in annotations: im_id: 328103, area: 0.0 x1: 51.68, y1: 592.36, x2: 291.68, y2: 592.36.\n",
      "[05/19 19:07:03] ppdet.data.source.coco WARNING: Found an invalid bbox in annotations: im_id: 329920, area: 0.0 x1: 54.0, y1: 604.58, x2: 558.0, y2: 604.58.\n",
      "[05/19 19:07:03] ppdet.data.source.coco WARNING: Found an invalid bbox in annotations: im_id: 329967, area: 0.0 x1: 54.0, y1: 637.26, x2: 552.0, y2: 637.26.\n",
      "[05/19 19:07:04] ppdet.data.source.coco INFO: Load [335703 samples valid, 0 samples invalid] in file ../dataset/_PUBLAYNET/publaynet/train.json.\n",
      "W0519 19:07:07.844180 2683670 gpu_resources.cc:119] Please NOTE: device: 0, GPU Compute Capability: 7.5, Driver API Version: 12.4, Runtime API Version: 11.8\n",
      "W0519 19:07:07.847718 2683670 gpu_resources.cc:164] device: 0, cuDNN Version: 8.8.\n",
      "[05/19 19:07:12] ppdet.utils.checkpoint INFO: ['fc.bias', 'fc.weight', 'last_conv.weight'] in pretrained weight is not used in the model, and its will not be loaded\n",
      "[05/19 19:07:12] ppdet.utils.checkpoint INFO: The shape [16] in pretrained weight conv1.bn._mean is unmatched with the shape [64] in model neck.bottom_up_blocks.0.blocks.0.conv1.bn._mean. And the weight conv1.bn._mean will not be loaded\n",
      "[05/19 19:07:12] ppdet.utils.checkpoint INFO: The shape [16] in pretrained weight conv1.bn._variance is unmatched with the shape [64] in model neck.bottom_up_blocks.0.blocks.0.conv1.bn._variance. And the weight conv1.bn._variance will not be loaded\n",
      "[05/19 19:07:12] ppdet.utils.checkpoint INFO: The shape [16] in pretrained weight conv1.bn.bias is unmatched with the shape [64] in model neck.bottom_up_blocks.0.blocks.0.conv1.bn.bias. And the weight conv1.bn.bias will not be loaded\n",
      "[05/19 19:07:12] ppdet.utils.checkpoint INFO: The shape [16] in pretrained weight conv1.bn.weight is unmatched with the shape [64] in model neck.bottom_up_blocks.0.blocks.0.conv1.bn.weight. And the weight conv1.bn.weight will not be loaded\n",
      "[05/19 19:07:12] ppdet.utils.checkpoint INFO: The shape [16, 3, 3, 3] in pretrained weight conv1.conv.weight is unmatched with the shape [64, 64, 1, 1] in model neck.bottom_up_blocks.0.blocks.0.conv1.conv.weight. And the weight conv1.conv.weight will not be loaded\n",
      "[05/19 19:07:12] ppdet.utils.checkpoint INFO: The shape [16] in pretrained weight conv1.bn._mean is unmatched with the shape [64] in model neck.bottom_up_blocks.1.blocks.0.conv1.bn._mean. And the weight conv1.bn._mean will not be loaded\n",
      "[05/19 19:07:12] ppdet.utils.checkpoint INFO: The shape [16] in pretrained weight conv1.bn._variance is unmatched with the shape [64] in model neck.bottom_up_blocks.1.blocks.0.conv1.bn._variance. And the weight conv1.bn._variance will not be loaded\n",
      "[05/19 19:07:12] ppdet.utils.checkpoint INFO: The shape [16] in pretrained weight conv1.bn.bias is unmatched with the shape [64] in model neck.bottom_up_blocks.1.blocks.0.conv1.bn.bias. And the weight conv1.bn.bias will not be loaded\n",
      "[05/19 19:07:12] ppdet.utils.checkpoint INFO: The shape [16] in pretrained weight conv1.bn.weight is unmatched with the shape [64] in model neck.bottom_up_blocks.1.blocks.0.conv1.bn.weight. And the weight conv1.bn.weight will not be loaded\n",
      "[05/19 19:07:12] ppdet.utils.checkpoint INFO: The shape [16, 3, 3, 3] in pretrained weight conv1.conv.weight is unmatched with the shape [64, 64, 1, 1] in model neck.bottom_up_blocks.1.blocks.0.conv1.conv.weight. And the weight conv1.conv.weight will not be loaded\n",
      "[05/19 19:07:12] ppdet.utils.checkpoint INFO: The shape [16] in pretrained weight conv1.bn._mean is unmatched with the shape [64] in model neck.top_down_blocks.0.blocks.0.conv1.bn._mean. And the weight conv1.bn._mean will not be loaded\n",
      "[05/19 19:07:12] ppdet.utils.checkpoint INFO: The shape [16] in pretrained weight conv1.bn._variance is unmatched with the shape [64] in model neck.top_down_blocks.0.blocks.0.conv1.bn._variance. And the weight conv1.bn._variance will not be loaded\n",
      "[05/19 19:07:12] ppdet.utils.checkpoint INFO: The shape [16] in pretrained weight conv1.bn.bias is unmatched with the shape [64] in model neck.top_down_blocks.0.blocks.0.conv1.bn.bias. And the weight conv1.bn.bias will not be loaded\n",
      "[05/19 19:07:12] ppdet.utils.checkpoint INFO: The shape [16] in pretrained weight conv1.bn.weight is unmatched with the shape [64] in model neck.top_down_blocks.0.blocks.0.conv1.bn.weight. And the weight conv1.bn.weight will not be loaded\n",
      "[05/19 19:07:12] ppdet.utils.checkpoint INFO: The shape [16, 3, 3, 3] in pretrained weight conv1.conv.weight is unmatched with the shape [64, 64, 1, 1] in model neck.top_down_blocks.0.blocks.0.conv1.conv.weight. And the weight conv1.conv.weight will not be loaded\n",
      "[05/19 19:07:12] ppdet.utils.checkpoint INFO: The shape [16] in pretrained weight conv1.bn._mean is unmatched with the shape [64] in model neck.top_down_blocks.1.blocks.0.conv1.bn._mean. And the weight conv1.bn._mean will not be loaded\n",
      "[05/19 19:07:12] ppdet.utils.checkpoint INFO: The shape [16] in pretrained weight conv1.bn._variance is unmatched with the shape [64] in model neck.top_down_blocks.1.blocks.0.conv1.bn._variance. And the weight conv1.bn._variance will not be loaded\n",
      "[05/19 19:07:12] ppdet.utils.checkpoint INFO: The shape [16] in pretrained weight conv1.bn.bias is unmatched with the shape [64] in model neck.top_down_blocks.1.blocks.0.conv1.bn.bias. And the weight conv1.bn.bias will not be loaded\n",
      "[05/19 19:07:12] ppdet.utils.checkpoint INFO: The shape [16] in pretrained weight conv1.bn.weight is unmatched with the shape [64] in model neck.top_down_blocks.1.blocks.0.conv1.bn.weight. And the weight conv1.bn.weight will not be loaded\n",
      "[05/19 19:07:12] ppdet.utils.checkpoint INFO: The shape [16, 3, 3, 3] in pretrained weight conv1.conv.weight is unmatched with the shape [64, 64, 1, 1] in model neck.top_down_blocks.1.blocks.0.conv1.conv.weight. And the weight conv1.conv.weight will not be loaded\n",
      "[05/19 19:07:12] ppdet.utils.checkpoint INFO: Finish loading model weights: /home/lstm/.cache/paddle/weights/LCNet_x1_0_pretrained.pdparams\n",
      "Traceback (most recent call last):\n",
      "  File \"../tools/train.py\", line 209, in <module>\n",
      "    main()\n",
      "  File \"../tools/train.py\", line 205, in main\n",
      "    run(FLAGS, cfg)\n",
      "  File \"../tools/train.py\", line 158, in run\n",
      "    trainer.train(FLAGS.eval)\n",
      "  File \"/home/lstm/github/PaddleDetection/ppdet/engine/trainer.py\", line 577, in train\n",
      "    outputs = model(data)\n",
      "  File \"/home/lstm/miniconda3/envs/pp261/lib/python3.8/site-packages/paddle/nn/layer/layers.py\", line 1429, in __call__\n",
      "    return self.forward(*inputs, **kwargs)\n",
      "  File \"/home/lstm/github/PaddleDetection/ppdet/modeling/architectures/meta_arch.py\", line 60, in forward\n",
      "    out = self.get_loss()\n",
      "  File \"/home/lstm/github/PaddleDetection/ppdet/modeling/architectures/picodet.py\", line 82, in get_loss\n",
      "    head_outs, _ = self._forward()\n",
      "  File \"/home/lstm/github/PaddleDetection/ppdet/modeling/architectures/picodet.py\", line 67, in _forward\n",
      "    head_outs = self.head(fpn_feats, self.export_post_process)\n",
      "  File \"/home/lstm/miniconda3/envs/pp261/lib/python3.8/site-packages/paddle/nn/layer/layers.py\", line 1429, in __call__\n",
      "    return self.forward(*inputs, **kwargs)\n",
      "  File \"/home/lstm/github/PaddleDetection/ppdet/modeling/heads/pico_head.py\", line 299, in forward\n",
      "    return self.forward_train(fpn_feats)\n",
      "  File \"/home/lstm/github/PaddleDetection/ppdet/modeling/heads/pico_head.py\", line 307, in forward_train\n",
      "    conv_cls_feat, conv_reg_feat = self.conv_feat(fpn_feat, i)\n",
      "  File \"/home/lstm/miniconda3/envs/pp261/lib/python3.8/site-packages/paddle/nn/layer/layers.py\", line 1429, in __call__\n",
      "    return self.forward(*inputs, **kwargs)\n",
      "  File \"/home/lstm/github/PaddleDetection/ppdet/modeling/heads/pico_head.py\", line 167, in forward\n",
      "    cls_feat = self.act_func(self.cls_convs[stage_idx][i](cls_feat))\n",
      "  File \"/home/lstm/miniconda3/envs/pp261/lib/python3.8/site-packages/paddle/nn/layer/layers.py\", line 1429, in __call__\n",
      "    return self.forward(*inputs, **kwargs)\n",
      "  File \"/home/lstm/github/PaddleDetection/ppdet/modeling/layers.py\", line 267, in forward\n",
      "    out = self.norm(out)\n",
      "  File \"/home/lstm/miniconda3/envs/pp261/lib/python3.8/site-packages/paddle/nn/layer/layers.py\", line 1429, in __call__\n",
      "    return self.forward(*inputs, **kwargs)\n",
      "  File \"/home/lstm/miniconda3/envs/pp261/lib/python3.8/site-packages/paddle/nn/layer/norm.py\", line 828, in forward\n",
      "    return batch_norm(\n",
      "  File \"/home/lstm/miniconda3/envs/pp261/lib/python3.8/site-packages/paddle/nn/functional/norm.py\", line 200, in batch_norm\n",
      "    batch_norm_out, _, _, _, _, _ = _C_ops.batch_norm(\n",
      "MemoryError: \n",
      "\n",
      "--------------------------------------\n",
      "C++ Traceback (most recent call last):\n",
      "--------------------------------------\n",
      "0   paddle::pybind::eager_api_batch_norm(_object*, _object*, _object*)\n",
      "1   batch_norm_ad_func(paddle::Tensor const&, paddle::Tensor const&, paddle::Tensor const&, paddle::optional<paddle::Tensor> const&, paddle::optional<paddle::Tensor> const&, bool, float, float, std::string, bool, bool)\n",
      "2   paddle::experimental::batch_norm(paddle::Tensor const&, paddle::Tensor const&, paddle::Tensor const&, paddle::optional<paddle::Tensor> const&, paddle::optional<paddle::Tensor> const&, bool, float, float, std::string const&, bool, bool)\n",
      "3   void phi::BatchNormKernel<float, phi::GPUContext>(phi::GPUContext const&, phi::DenseTensor const&, phi::DenseTensor const&, phi::DenseTensor const&, paddle::optional<phi::DenseTensor> const&, paddle::optional<phi::DenseTensor> const&, bool, float, float, std::string const&, bool, bool, phi::DenseTensor*, phi::DenseTensor*, phi::DenseTensor*, phi::DenseTensor*, phi::DenseTensor*, phi::DenseTensor*)\n",
      "4   float* phi::DeviceContext::Alloc<float>(phi::TensorBase*, unsigned long, bool) const\n",
      "5   phi::DeviceContext::Impl::Alloc(phi::TensorBase*, phi::Place const&, phi::DataType, unsigned long, bool, bool) const\n",
      "6   phi::DenseTensor::AllocateFrom(phi::Allocator*, phi::DataType, unsigned long, bool)\n",
      "7   paddle::memory::allocation::Allocator::Allocate(unsigned long)\n",
      "8   paddle::memory::allocation::StatAllocator::AllocateImpl(unsigned long)\n",
      "9   paddle::memory::allocation::Allocator::Allocate(unsigned long)\n",
      "10  paddle::memory::allocation::Allocator::Allocate(unsigned long)\n",
      "11  paddle::memory::allocation::Allocator::Allocate(unsigned long)\n",
      "12  paddle::memory::allocation::Allocator::Allocate(unsigned long)\n",
      "13  paddle::memory::allocation::CUDAAllocator::AllocateImpl(unsigned long)\n",
      "14  std::string phi::enforce::GetCompleteTraceBackString<std::string >(std::string&&, char const*, int)\n",
      "15  phi::enforce::GetCurrentTraceBackString[abi:cxx11](bool)\n",
      "\n",
      "----------------------\n",
      "Error Message Summary:\n",
      "----------------------\n",
      "ResourceExhaustedError: \n",
      "\n",
      "Out of memory error on GPU 0. Cannot allocate 81.000000MB memory on GPU 0, 10.674561GB memory has been allocated and available memory is only 73.750000MB.\n",
      "\n",
      "Please check whether there is any other process using GPU 0.\n",
      "1. If yes, please stop them, or start PaddlePaddle on another GPU.\n",
      "2. If no, please decrease the batch size of your model. \n",
      " (at /paddle/paddle/fluid/memory/allocation/cuda_allocator.cc:86)\n",
      "\n"
     ]
    }
   ],
   "source": [
    "!{command}\n",
    "# output = subprocess.run(command, shell=True, capture_output=True)"
   ]
  }
 ],
 "metadata": {
  "kernelspec": {
   "display_name": "pp261",
   "language": "python",
   "name": "python3"
  },
  "language_info": {
   "codemirror_mode": {
    "name": "ipython",
    "version": 3
   },
   "file_extension": ".py",
   "mimetype": "text/x-python",
   "name": "python",
   "nbconvert_exporter": "python",
   "pygments_lexer": "ipython3",
   "version": "3.8.19"
  }
 },
 "nbformat": 4,
 "nbformat_minor": 2
}
