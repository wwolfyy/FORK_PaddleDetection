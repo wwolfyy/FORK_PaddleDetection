{
 "cells": [
  {
   "cell_type": "markdown",
   "metadata": {},
   "source": [
    "# Prep data for tuning & inference with tuned model"
   ]
  },
  {
   "cell_type": "markdown",
   "metadata": {},
   "source": [
    "### Copy images from original image folder to target folder, based on selected inferences w/ existing model"
   ]
  },
  {
   "cell_type": "code",
   "execution_count": 1,
   "metadata": {},
   "outputs": [
    {
     "name": "stdout",
     "output_type": "stream",
     "text": [
      "copying images from <./testdata/CONVERTED_JPEG_batch2> to <../dataset/_KRCASE_20240526/train/images> based on file names in <./testresults/20240526/tuning_data_20240526>\n"
     ]
    }
   ],
   "source": [
    "import os, shutil\n",
    "\n",
    "org_folder_name = 'CONVERTED_JPEG_batch2'\n",
    "org_img_folder = f\"./testdata/{org_folder_name}\"\n",
    "\n",
    "tuning_img_folder = './testresults/20240526/tuning_data_20240526'\n",
    "\n",
    "new_folder_name = '_KRCASE_20240526'\n",
    "copy_folder = f\"../dataset/{new_folder_name}/train/images\"\n",
    "\n",
    "print(f'copying images from <{org_img_folder}> to <{copy_folder}> based on file names in <{tuning_img_folder}>')"
   ]
  },
  {
   "cell_type": "code",
   "execution_count": 4,
   "metadata": {},
   "outputs": [
    {
     "name": "stdout",
     "output_type": "stream",
     "text": [
      "77\n"
     ]
    }
   ],
   "source": [
    "selected_images = list()\n",
    "filenames = os.listdir(tuning_img_folder)\n",
    "for filename in filenames:\n",
    "    shutil.copy(f'{org_img_folder}/{filename}', copy_folder)\n",
    "    selected_images.append(filename)\n",
    "\n",
    "print(len(selected_images))"
   ]
  },
  {
   "cell_type": "markdown",
   "metadata": {},
   "source": [
    "### Move selected images from original folder to a used image folder\n",
    "- This is to exclude images used for training from test inference"
   ]
  },
  {
   "cell_type": "code",
   "execution_count": 7,
   "metadata": {},
   "outputs": [
    {
     "name": "stdout",
     "output_type": "stream",
     "text": [
      "moving images from <./testdata/CONVERTED_JPEG_batch2> to <./testdata/images_used_4_training/CONVERTED_JPEG_batch2>\n"
     ]
    }
   ],
   "source": [
    "# used_image_folder_name = 'CONVERTED_JPEG_batch2' # should be same as <org_folder_name> above\n",
    "used_images_folder = f\"./testdata/images_used_4_training/{org_folder_name}\"\n",
    "\n",
    "print(f'moving images from <{org_img_folder}> to <{used_images_folder}>')"
   ]
  },
  {
   "cell_type": "code",
   "execution_count": 8,
   "metadata": {},
   "outputs": [],
   "source": [
    "for img in selected_images:\n",
    "    shutil.move(f\"{org_img_folder}/{img}\", used_images_folder)"
   ]
  }
 ],
 "metadata": {
  "kernelspec": {
   "display_name": "pp261",
   "language": "python",
   "name": "python3"
  },
  "language_info": {
   "codemirror_mode": {
    "name": "ipython",
    "version": 3
   },
   "file_extension": ".py",
   "mimetype": "text/x-python",
   "name": "python",
   "nbconvert_exporter": "python",
   "pygments_lexer": "ipython3",
   "version": "3.8.19"
  }
 },
 "nbformat": 4,
 "nbformat_minor": 2
}
