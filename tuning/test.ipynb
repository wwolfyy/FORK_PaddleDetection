{
 "cells": [
  {
   "cell_type": "markdown",
   "metadata": {},
   "source": [
    "# Fine tune CDLA pretrained model for KR court decisions"
   ]
  },
  {
   "cell_type": "markdown",
   "metadata": {},
   "source": []
  },
  {
   "cell_type": "code",
   "execution_count": 1,
   "metadata": {},
   "outputs": [
    {
     "name": "stdout",
     "output_type": "stream",
     "text": [
      "Running verify PaddlePaddle program ... \n"
     ]
    },
    {
     "name": "stderr",
     "output_type": "stream",
     "text": [
      "I0428 19:04:48.897567 1489050 program_interpreter.cc:212] New Executor is Running.\n",
      "W0428 19:04:48.898406 1489050 gpu_resources.cc:119] Please NOTE: device: 0, GPU Compute Capability: 7.5, Driver API Version: 12.4, Runtime API Version: 11.8\n",
      "W0428 19:04:48.906631 1489050 gpu_resources.cc:164] device: 0, cuDNN Version: 8.8.\n"
     ]
    },
    {
     "name": "stdout",
     "output_type": "stream",
     "text": [
      "PaddlePaddle works well on 1 GPU.\n",
      "PaddlePaddle is installed successfully! Let's start deep learning with PaddlePaddle now.\n",
      "/bin/bash: /home/lstm/miniconda3/envs/pp261/lib/libtinfo.so.6: no version information available (required by /bin/bash)\n"
     ]
    },
    {
     "name": "stderr",
     "output_type": "stream",
     "text": [
      "I0428 19:04:49.432123 1489050 interpreter_util.cc:624] Standalone Executor is Used.\n"
     ]
    }
   ],
   "source": [
    "import subprocess, os, time, json\n",
    "import fitz\n",
    "import paddle\n",
    "paddle.utils.run_check()\n",
    "\n",
    "!export CUDA_VISIBLE_DEVICES=0"
   ]
  },
  {
   "cell_type": "code",
   "execution_count": 2,
   "metadata": {},
   "outputs": [
    {
     "name": "stdout",
     "output_type": "stream",
     "text": [
      "/home/lstm/github/PaddleDetection/tuning\n"
     ]
    }
   ],
   "source": [
    "print(os.getcwd())"
   ]
  },
  {
   "cell_type": "markdown",
   "metadata": {},
   "source": [
    "## Train"
   ]
  },
  {
   "cell_type": "code",
   "execution_count": 29,
   "metadata": {},
   "outputs": [
    {
     "name": "stdout",
     "output_type": "stream",
     "text": [
      "python3 ../tools/train.py -c ../configs/picodet/legacy_model/application/layout_analysis/krcase_layout_test.yml --slim_config ../configs/picodet/legacy_model/application/layout_analysis/krcase_layout_distill.yml --eval --use_vdl=True --vdl_log_dir=vdl_log/20240428-172301\n"
     ]
    }
   ],
   "source": [
    "# Single GPU\n",
    "command = (\n",
    "    \"python3 ../tools/train.py\",\n",
    "    \"-c ../configs/picodet/legacy_model/application/layout_analysis/krcase_layout_test.yml\",\n",
    "    \"--slim_config ../configs/picodet/legacy_model/application/layout_analysis/krcase_layout_distill.yml\",\n",
    "    \"--eval\",\n",
    "    f\"--use_vdl=True --vdl_log_dir=vdl_log/{time.strftime('%Y%m%d-%H%M%S')}\",\n",
    "    )\n",
    "command = \" \".join(command)\n",
    "print(command)"
   ]
  },
  {
   "cell_type": "code",
   "execution_count": 31,
   "metadata": {},
   "outputs": [
    {
     "name": "stdout",
     "output_type": "stream",
     "text": [
      "/bin/bash: /home/lstm/miniconda3/envs/pp261/lib/libtinfo.so.6: no version information available (required by /bin/bash)\n",
      "W0428 17:25:03.925673 1421608 gpu_resources.cc:119] Please NOTE: device: 0, GPU Compute Capability: 7.5, Driver API Version: 12.4, Runtime API Version: 11.8\n",
      "W0428 17:25:03.927322 1421608 gpu_resources.cc:164] device: 0, cuDNN Version: 8.8.\n",
      "[04/28 17:25:04] ppdet.utils.checkpoint INFO: The shape [42] in pretrained weight head.head_cls0.bias is unmatched with the shape [44] in model head.head_cls0.bias. And the weight head.head_cls0.bias will not be loaded\n",
      "[04/28 17:25:04] ppdet.utils.checkpoint INFO: The shape [42, 128, 1, 1] in pretrained weight head.head_cls0.weight is unmatched with the shape [44, 128, 1, 1] in model head.head_cls0.weight. And the weight head.head_cls0.weight will not be loaded\n",
      "[04/28 17:25:04] ppdet.utils.checkpoint INFO: The shape [42] in pretrained weight head.head_cls1.bias is unmatched with the shape [44] in model head.head_cls1.bias. And the weight head.head_cls1.bias will not be loaded\n",
      "[04/28 17:25:04] ppdet.utils.checkpoint INFO: The shape [42, 128, 1, 1] in pretrained weight head.head_cls1.weight is unmatched with the shape [44, 128, 1, 1] in model head.head_cls1.weight. And the weight head.head_cls1.weight will not be loaded\n",
      "[04/28 17:25:04] ppdet.utils.checkpoint INFO: The shape [42] in pretrained weight head.head_cls2.bias is unmatched with the shape [44] in model head.head_cls2.bias. And the weight head.head_cls2.bias will not be loaded\n",
      "[04/28 17:25:04] ppdet.utils.checkpoint INFO: The shape [42, 128, 1, 1] in pretrained weight head.head_cls2.weight is unmatched with the shape [44, 128, 1, 1] in model head.head_cls2.weight. And the weight head.head_cls2.weight will not be loaded\n",
      "[04/28 17:25:04] ppdet.utils.checkpoint INFO: The shape [42] in pretrained weight head.head_cls3.bias is unmatched with the shape [44] in model head.head_cls3.bias. And the weight head.head_cls3.bias will not be loaded\n",
      "[04/28 17:25:04] ppdet.utils.checkpoint INFO: The shape [42, 128, 1, 1] in pretrained weight head.head_cls3.weight is unmatched with the shape [44, 128, 1, 1] in model head.head_cls3.weight. And the weight head.head_cls3.weight will not be loaded\n",
      "[04/28 17:25:04] ppdet.utils.checkpoint INFO: Finish loading model weights: ../tuning/trained_weights/output_CDLApretrained/model.pdparams\n",
      "[04/28 17:25:04] ppdet.slim.distill_model INFO: Student model has loaded pretrain weights!\n",
      "[04/28 17:25:07] ppdet.utils.checkpoint INFO: ['backbone.fc.bias', 'backbone.fc.weight', 'backbone.last_conv.weight'] in pretrained weight is not used in the model, and its will not be loaded\n",
      "[04/28 17:25:07] ppdet.utils.checkpoint INFO: Finish loading model weights: /home/lstm/.cache/paddle/weights/LCNet_x2_5_ssld_pretrained.pdparams\n",
      "[04/28 17:25:07] ppdet.slim.distill_model INFO: Teacher model has loaded pretrain weights!\n",
      "loading annotations into memory...\n",
      "Done (t=1.62s)\n",
      "creating index...\n",
      "index created!\n",
      "[04/28 17:25:09] ppdet.data.source.coco INFO: Load [5000 samples valid, 0 samples invalid] in file ../dataset/_CDLA_DATASET/coco/train.json.\n",
      "[04/28 17:25:12] ppdet.engine INFO: Epoch: [0] [   0/2500] learning_rate: 0.010000 loss_vfl: 1.431674 loss_bbox: 0.259655 loss_dfl: 0.113176 loss: 9.199573 neck_f_3: 3.610207 neck_f_2: 1.714676 neck_f_1: 1.129081 neck_f_0: 0.941104 eta: 3 days, 17:13:48 batch_cost: 1.2849 data_cost: 0.0008 ips: 1.5565 images/s\n",
      "[04/28 17:25:21] ppdet.engine INFO: Epoch: [0] [  20/2500] learning_rate: 0.016000 loss_vfl: 0.765002 loss_bbox: 0.861120 loss_dfl: 0.476481 loss: 12.080886 neck_f_3: 4.223619 neck_f_2: 2.278966 neck_f_1: 1.979062 neck_f_0: 1.711237 eta: 1 day, 4:47:06 batch_cost: 0.3710 data_cost: 0.0016 ips: 5.3905 images/s\n",
      "[04/28 17:25:29] ppdet.engine INFO: Epoch: [0] [  40/2500] learning_rate: 0.022000 loss_vfl: 0.684619 loss_bbox: 0.575338 loss_dfl: 0.385257 loss: 10.247439 neck_f_3: 3.993590 neck_f_2: 1.824811 neck_f_1: 1.238195 neck_f_0: 0.988350 eta: 1 day, 2:10:07 batch_cost: 0.3374 data_cost: 0.0008 ips: 5.9285 images/s\n",
      "[04/28 17:25:38] ppdet.engine INFO: Epoch: [0] [  60/2500] learning_rate: 0.028000 loss_vfl: 0.694350 loss_bbox: 0.530529 loss_dfl: 0.308965 loss: 9.033095 neck_f_3: 3.647435 neck_f_2: 1.663966 neck_f_1: 1.020172 neck_f_0: 0.833314 eta: 1 day, 1:34:12 batch_cost: 0.3507 data_cost: 0.0016 ips: 5.7030 images/s\n",
      "[04/28 17:25:45] ppdet.engine INFO: Epoch: [0] [  80/2500] learning_rate: 0.034000 loss_vfl: 0.828923 loss_bbox: 0.420765 loss_dfl: 0.281974 loss: 9.635056 neck_f_3: 3.691794 neck_f_2: 1.860024 neck_f_1: 1.274605 neck_f_0: 1.033540 eta: 1 day, 0:29:11 batch_cost: 0.3052 data_cost: 0.0011 ips: 6.5532 images/s\n",
      "[04/28 17:25:53] ppdet.engine INFO: Epoch: [0] [ 100/2500] learning_rate: 0.040000 loss_vfl: 0.935990 loss_bbox: 0.681881 loss_dfl: 0.328395 loss: 9.583165 neck_f_3: 3.445278 neck_f_2: 1.851650 neck_f_1: 1.105790 neck_f_0: 0.965793 eta: 1 day, 0:02:07 batch_cost: 0.3200 data_cost: 0.0010 ips: 6.2490 images/s\n",
      "[04/28 17:26:02] ppdet.engine INFO: Epoch: [0] [ 120/2500] learning_rate: 0.046000 loss_vfl: 0.892080 loss_bbox: 0.751374 loss_dfl: 0.373331 loss: 9.540850 neck_f_3: 3.684792 neck_f_2: 2.004449 neck_f_1: 1.038413 neck_f_0: 0.918417 eta: 23:54:21 batch_cost: 0.3351 data_cost: 0.0009 ips: 5.9679 images/s\n",
      "[04/28 17:26:11] ppdet.engine INFO: Epoch: [0] [ 140/2500] learning_rate: 0.052000 loss_vfl: 0.869013 loss_bbox: 0.771207 loss_dfl: 0.344958 loss: 10.043533 neck_f_3: 3.790186 neck_f_2: 1.978179 neck_f_1: 1.220265 neck_f_0: 1.153052 eta: 1 day, 0:05:57 batch_cost: 0.3642 data_cost: 0.0016 ips: 5.4908 images/s\n",
      "[04/28 17:26:19] ppdet.engine INFO: Epoch: [0] [ 160/2500] learning_rate: 0.058000 loss_vfl: 1.022644 loss_bbox: 0.846447 loss_dfl: 0.364977 loss: 8.216705 neck_f_3: 3.344940 neck_f_2: 1.472874 neck_f_1: 0.741395 neck_f_0: 0.706740 eta: 23:53:10 batch_cost: 0.3227 data_cost: 0.0010 ips: 6.1968 images/s\n",
      "[04/28 17:26:27] ppdet.engine INFO: Epoch: [0] [ 180/2500] learning_rate: 0.064000 loss_vfl: 0.944648 loss_bbox: 0.712057 loss_dfl: 0.349240 loss: 9.977697 neck_f_3: 3.408888 neck_f_2: 1.864769 neck_f_1: 1.169380 neck_f_0: 0.987718 eta: 23:36:11 batch_cost: 0.3075 data_cost: 0.0011 ips: 6.5043 images/s\n",
      "[04/28 17:26:35] ppdet.engine INFO: Epoch: [0] [ 200/2500] learning_rate: 0.070000 loss_vfl: 0.995547 loss_bbox: 0.682411 loss_dfl: 0.315551 loss: 10.071195 neck_f_3: 3.533621 neck_f_2: 2.124001 neck_f_1: 1.325891 neck_f_0: 1.217681 eta: 23:33:20 batch_cost: 0.3336 data_cost: 0.0014 ips: 5.9961 images/s\n",
      "[04/28 17:26:43] ppdet.engine INFO: Epoch: [0] [ 220/2500] learning_rate: 0.076000 loss_vfl: 1.003859 loss_bbox: 0.678223 loss_dfl: 0.329154 loss: 8.039649 neck_f_3: 3.227230 neck_f_2: 1.402592 neck_f_1: 0.787326 neck_f_0: 0.614964 eta: 23:27:47 batch_cost: 0.3250 data_cost: 0.0010 ips: 6.1534 images/s\n",
      "[04/28 17:26:52] ppdet.engine INFO: Epoch: [0] [ 240/2500] learning_rate: 0.082000 loss_vfl: 1.110690 loss_bbox: 0.704809 loss_dfl: 0.324015 loss: 10.444610 neck_f_3: 3.409131 neck_f_2: 2.053160 neck_f_1: 1.093750 neck_f_0: 0.937994 eta: 23:32:21 batch_cost: 0.3517 data_cost: 0.0012 ips: 5.6863 images/s\n",
      "[04/28 17:26:59] ppdet.engine INFO: Epoch: [0] [ 260/2500] learning_rate: 0.088000 loss_vfl: 0.999419 loss_bbox: 0.709640 loss_dfl: 0.320555 loss: 8.555775 neck_f_3: 3.277467 neck_f_2: 1.582197 neck_f_1: 0.831137 neck_f_0: 0.801007 eta: 23:13:01 batch_cost: 0.2791 data_cost: 0.0400 ips: 7.1671 images/s\n",
      "[04/28 17:27:05] ppdet.engine INFO: Epoch: [0] [ 280/2500] learning_rate: 0.094000 loss_vfl: 0.833561 loss_bbox: 0.699710 loss_dfl: 0.313196 loss: 11.524782 neck_f_3: 3.913033 neck_f_2: 2.626129 neck_f_1: 1.732327 neck_f_0: 1.308070 eta: 22:45:40 batch_cost: 0.2427 data_cost: 0.0024 ips: 8.2414 images/s\n",
      "[04/28 17:27:13] ppdet.engine INFO: Epoch: [0] [ 300/2500] learning_rate: 0.100000 loss_vfl: 0.897556 loss_bbox: 0.672089 loss_dfl: 0.316183 loss: 8.587642 neck_f_3: 3.233119 neck_f_2: 1.490502 neck_f_1: 0.880266 neck_f_0: 0.958102 eta: 22:37:40 batch_cost: 0.2996 data_cost: 0.0012 ips: 6.6750 images/s\n",
      "[04/28 17:27:21] ppdet.engine INFO: Epoch: [0] [ 320/2500] learning_rate: 0.100000 loss_vfl: 0.944749 loss_bbox: 0.653575 loss_dfl: 0.308293 loss: 10.175990 neck_f_3: 3.715845 neck_f_2: 1.987902 neck_f_1: 1.330182 neck_f_0: 1.154180 eta: 22:36:21 batch_cost: 0.3215 data_cost: 0.0013 ips: 6.2199 images/s\n",
      "[04/28 17:27:29] ppdet.engine INFO: Epoch: [0] [ 340/2500] learning_rate: 0.100000 loss_vfl: 1.059531 loss_bbox: 0.550684 loss_dfl: 0.306424 loss: 7.973497 neck_f_3: 3.210923 neck_f_2: 1.421047 neck_f_1: 0.801574 neck_f_0: 0.696326 eta: 22:35:48 batch_cost: 0.3242 data_cost: 0.0014 ips: 6.1694 images/s\n",
      "[04/28 17:27:37] ppdet.engine INFO: Epoch: [0] [ 360/2500] learning_rate: 0.100000 loss_vfl: 0.964631 loss_bbox: 0.583986 loss_dfl: 0.299675 loss: 8.950620 neck_f_3: 3.180511 neck_f_2: 1.632954 neck_f_1: 1.093566 neck_f_0: 1.028314 eta: 22:35:21 batch_cost: 0.3243 data_cost: 0.0011 ips: 6.1665 images/s\n",
      "[04/28 17:27:45] ppdet.engine INFO: Epoch: [0] [ 380/2500] learning_rate: 0.100000 loss_vfl: 0.985307 loss_bbox: 0.668929 loss_dfl: 0.307774 loss: 9.369455 neck_f_3: 3.492955 neck_f_2: 1.956230 neck_f_1: 0.989614 neck_f_0: 0.816383 eta: 22:33:37 batch_cost: 0.3183 data_cost: 0.0015 ips: 6.2834 images/s\n",
      "[04/28 17:27:54] ppdet.engine INFO: Epoch: [0] [ 400/2500] learning_rate: 0.100000 loss_vfl: 1.004639 loss_bbox: 0.638833 loss_dfl: 0.316882 loss: 8.488138 neck_f_3: 3.282051 neck_f_2: 1.541802 neck_f_1: 0.857409 neck_f_0: 0.958969 eta: 22:37:32 batch_cost: 0.3448 data_cost: 0.0013 ips: 5.8004 images/s\n",
      "[04/28 17:28:02] ppdet.engine INFO: Epoch: [0] [ 420/2500] learning_rate: 0.100000 loss_vfl: 0.989714 loss_bbox: 0.484090 loss_dfl: 0.284105 loss: 7.486902 neck_f_3: 2.932465 neck_f_2: 1.297993 neck_f_1: 0.807483 neck_f_0: 0.696670 eta: 22:35:06 batch_cost: 0.3146 data_cost: 0.0012 ips: 6.3577 images/s\n",
      "[04/28 17:28:10] ppdet.engine INFO: Epoch: [0] [ 440/2500] learning_rate: 0.100000 loss_vfl: 0.940299 loss_bbox: 0.605783 loss_dfl: 0.289854 loss: 9.430007 neck_f_3: 3.418635 neck_f_2: 1.930592 neck_f_1: 1.001305 neck_f_0: 0.932430 eta: 22:34:56 batch_cost: 0.3255 data_cost: 0.0013 ips: 6.1450 images/s\n",
      "[04/28 17:28:18] ppdet.engine INFO: Epoch: [0] [ 460/2500] learning_rate: 0.100000 loss_vfl: 0.976578 loss_bbox: 0.631626 loss_dfl: 0.276670 loss: 10.569727 neck_f_3: 3.660696 neck_f_2: 2.270013 neck_f_1: 1.415601 neck_f_0: 1.291961 eta: 22:33:53 batch_cost: 0.3205 data_cost: 0.0008 ips: 6.2408 images/s\n",
      "[04/28 17:28:26] ppdet.engine INFO: Epoch: [0] [ 480/2500] learning_rate: 0.100000 loss_vfl: 0.932926 loss_bbox: 0.491849 loss_dfl: 0.272937 loss: 8.639425 neck_f_3: 3.312025 neck_f_2: 1.678891 neck_f_1: 0.985083 neck_f_0: 0.802826 eta: 22:35:59 batch_cost: 0.3383 data_cost: 0.0008 ips: 5.9121 images/s\n",
      "[04/28 17:28:35] ppdet.engine INFO: Epoch: [0] [ 500/2500] learning_rate: 0.100000 loss_vfl: 0.990961 loss_bbox: 0.528540 loss_dfl: 0.274696 loss: 8.400460 neck_f_3: 3.106895 neck_f_2: 1.526987 neck_f_1: 0.828999 neck_f_0: 0.693199 eta: 22:38:57 batch_cost: 0.3446 data_cost: 0.0007 ips: 5.8033 images/s\n",
      "[04/28 17:28:43] ppdet.engine INFO: Epoch: [0] [ 520/2500] learning_rate: 0.100000 loss_vfl: 0.985996 loss_bbox: 0.527516 loss_dfl: 0.261232 loss: 9.442513 neck_f_3: 3.578467 neck_f_2: 2.006274 neck_f_1: 1.155783 neck_f_0: 0.982491 eta: 22:40:21 batch_cost: 0.3363 data_cost: 0.0013 ips: 5.9470 images/s\n",
      "[04/28 17:28:52] ppdet.engine INFO: Epoch: [0] [ 540/2500] learning_rate: 0.100000 loss_vfl: 0.957156 loss_bbox: 0.512044 loss_dfl: 0.260322 loss: 11.430380 neck_f_3: 3.694205 neck_f_2: 2.307016 neck_f_1: 1.448432 neck_f_0: 1.180019 eta: 22:47:55 batch_cost: 0.3770 data_cost: 0.0009 ips: 5.3049 images/s\n",
      "[04/28 17:29:00] ppdet.engine INFO: Epoch: [0] [ 560/2500] learning_rate: 0.100000 loss_vfl: 1.004286 loss_bbox: 0.484014 loss_dfl: 0.265331 loss: 7.839200 neck_f_3: 3.152125 neck_f_2: 1.422972 neck_f_1: 0.805388 neck_f_0: 0.725587 eta: 22:45:21 batch_cost: 0.3125 data_cost: 0.0016 ips: 6.3996 images/s\n",
      "[04/28 17:29:09] ppdet.engine INFO: Epoch: [0] [ 580/2500] learning_rate: 0.100000 loss_vfl: 0.985132 loss_bbox: 0.618389 loss_dfl: 0.266384 loss: 10.662380 neck_f_3: 3.933302 neck_f_2: 2.287263 neck_f_1: 1.339766 neck_f_0: 1.044537 eta: 22:49:45 batch_cost: 0.3599 data_cost: 0.0014 ips: 5.5564 images/s\n",
      "[04/28 17:29:17] ppdet.engine INFO: Epoch: [0] [ 600/2500] learning_rate: 0.100000 loss_vfl: 0.955498 loss_bbox: 0.472303 loss_dfl: 0.248288 loss: 8.336394 neck_f_3: 3.130561 neck_f_2: 1.604756 neck_f_1: 0.969896 neck_f_0: 0.794773 eta: 22:50:53 batch_cost: 0.3384 data_cost: 0.0010 ips: 5.9100 images/s\n",
      "[04/28 17:29:28] ppdet.engine INFO: Epoch: [0] [ 620/2500] learning_rate: 0.100000 loss_vfl: 1.032355 loss_bbox: 0.522802 loss_dfl: 0.256684 loss: 10.097365 neck_f_3: 3.608051 neck_f_2: 1.887161 neck_f_1: 1.297822 neck_f_0: 0.891992 eta: 23:04:10 batch_cost: 0.4299 data_cost: 0.0015 ips: 4.6527 images/s\n",
      "[04/28 17:29:38] ppdet.engine INFO: Epoch: [0] [ 640/2500] learning_rate: 0.100000 loss_vfl: 0.916537 loss_bbox: 0.540853 loss_dfl: 0.259464 loss: 8.943976 neck_f_3: 3.336444 neck_f_2: 1.802143 neck_f_1: 1.080429 neck_f_0: 0.913902 eta: 23:12:19 batch_cost: 0.3968 data_cost: 0.0007 ips: 5.0407 images/s\n",
      "[04/28 17:29:48] ppdet.engine INFO: Epoch: [0] [ 660/2500] learning_rate: 0.099999 loss_vfl: 0.964665 loss_bbox: 0.498222 loss_dfl: 0.261679 loss: 9.455668 neck_f_3: 3.416397 neck_f_2: 2.039890 neck_f_1: 1.205026 neck_f_0: 1.072971 eta: 23:19:44 batch_cost: 0.3949 data_cost: 0.0010 ips: 5.0652 images/s\n",
      "[04/28 17:29:57] ppdet.engine INFO: Epoch: [0] [ 680/2500] learning_rate: 0.099999 loss_vfl: 0.988992 loss_bbox: 0.511171 loss_dfl: 0.264958 loss: 7.802697 neck_f_3: 3.089980 neck_f_2: 1.455674 neck_f_1: 0.681585 neck_f_0: 0.772584 eta: 23:25:13 batch_cost: 0.3828 data_cost: 0.0009 ips: 5.2253 images/s\n",
      "[04/28 17:30:07] ppdet.engine INFO: Epoch: [0] [ 700/2500] learning_rate: 0.099999 loss_vfl: 0.908593 loss_bbox: 0.544709 loss_dfl: 0.271006 loss: 10.253255 neck_f_3: 3.478941 neck_f_2: 2.237306 neck_f_1: 1.297424 neck_f_0: 1.186313 eta: 23:32:00 batch_cost: 0.3963 data_cost: 0.0010 ips: 5.0461 images/s\n",
      "[04/28 17:30:18] ppdet.engine INFO: Epoch: [0] [ 720/2500] learning_rate: 0.099999 loss_vfl: 0.975639 loss_bbox: 0.540635 loss_dfl: 0.276383 loss: 8.215655 neck_f_3: 3.116098 neck_f_2: 1.603703 neck_f_1: 0.965262 neck_f_0: 0.813346 eta: 23:39:58 batch_cost: 0.4100 data_cost: 0.0010 ips: 4.8784 images/s\n",
      "[04/28 17:30:27] ppdet.engine INFO: Epoch: [0] [ 740/2500] learning_rate: 0.099999 loss_vfl: 1.096976 loss_bbox: 0.498942 loss_dfl: 0.260658 loss: 7.595341 neck_f_3: 3.148090 neck_f_2: 1.318857 neck_f_1: 0.814943 neck_f_0: 0.688469 eta: 23:45:52 batch_cost: 0.3954 data_cost: 0.0011 ips: 5.0585 images/s\n",
      "[04/28 17:30:37] ppdet.engine INFO: Epoch: [0] [ 760/2500] learning_rate: 0.099999 loss_vfl: 1.032981 loss_bbox: 0.591832 loss_dfl: 0.270300 loss: 10.680273 neck_f_3: 3.954458 neck_f_2: 2.325555 neck_f_1: 1.275454 neck_f_0: 1.126621 eta: 23:50:55 batch_cost: 0.3906 data_cost: 0.0009 ips: 5.1207 images/s\n",
      "[04/28 17:30:46] ppdet.engine INFO: Epoch: [0] [ 780/2500] learning_rate: 0.099999 loss_vfl: 0.949443 loss_bbox: 0.552815 loss_dfl: 0.261965 loss: 8.064057 neck_f_3: 3.094294 neck_f_2: 1.651146 neck_f_1: 0.843083 neck_f_0: 0.819863 eta: 23:53:08 batch_cost: 0.3664 data_cost: 0.0008 ips: 5.4587 images/s\n",
      "[04/28 17:30:55] ppdet.engine INFO: Epoch: [0] [ 800/2500] learning_rate: 0.099999 loss_vfl: 0.981286 loss_bbox: 0.523562 loss_dfl: 0.246980 loss: 9.556789 neck_f_3: 3.547747 neck_f_2: 2.057572 neck_f_1: 1.263224 neck_f_0: 0.786159 eta: 23:54:44 batch_cost: 0.3615 data_cost: 0.0010 ips: 5.5324 images/s\n",
      "[04/28 17:31:04] ppdet.engine INFO: Epoch: [0] [ 820/2500] learning_rate: 0.099999 loss_vfl: 0.995016 loss_bbox: 0.499217 loss_dfl: 0.257503 loss: 9.301532 neck_f_3: 3.635520 neck_f_2: 1.783359 neck_f_1: 1.190219 neck_f_0: 0.935335 eta: 23:54:27 batch_cost: 0.3438 data_cost: 0.0008 ips: 5.8176 images/s\n",
      "[04/28 17:31:12] ppdet.engine INFO: Epoch: [0] [ 840/2500] learning_rate: 0.099999 loss_vfl: 1.008903 loss_bbox: 0.478242 loss_dfl: 0.254943 loss: 11.131873 neck_f_3: 3.720683 neck_f_2: 2.428435 neck_f_1: 1.498330 neck_f_0: 1.292404 eta: 23:53:13 batch_cost: 0.3340 data_cost: 0.0008 ips: 5.9874 images/s\n",
      "[04/28 17:31:21] ppdet.engine INFO: Epoch: [0] [ 860/2500] learning_rate: 0.099999 loss_vfl: 0.912993 loss_bbox: 0.483867 loss_dfl: 0.234762 loss: 8.054998 neck_f_3: 2.976980 neck_f_2: 1.753535 neck_f_1: 0.875478 neck_f_0: 0.800086 eta: 23:52:53 batch_cost: 0.3430 data_cost: 0.0009 ips: 5.8317 images/s\n",
      "[04/28 17:31:29] ppdet.engine INFO: Epoch: [0] [ 880/2500] learning_rate: 0.099999 loss_vfl: 1.042438 loss_bbox: 0.512942 loss_dfl: 0.245671 loss: 8.561386 neck_f_3: 3.240089 neck_f_2: 1.575762 neck_f_1: 0.863547 neck_f_0: 0.762780 eta: 23:51:21 batch_cost: 0.3300 data_cost: 0.0009 ips: 6.0615 images/s\n",
      "[04/28 17:31:38] ppdet.engine INFO: Epoch: [0] [ 900/2500] learning_rate: 0.099999 loss_vfl: 0.976886 loss_bbox: 0.555070 loss_dfl: 0.245852 loss: 9.501130 neck_f_3: 3.418545 neck_f_2: 1.668934 neck_f_1: 1.090167 neck_f_0: 1.024882 eta: 23:51:13 batch_cost: 0.3445 data_cost: 0.0010 ips: 5.8055 images/s\n",
      "[04/28 17:31:46] ppdet.engine INFO: Epoch: [0] [ 920/2500] learning_rate: 0.099998 loss_vfl: 0.979240 loss_bbox: 0.506984 loss_dfl: 0.249140 loss: 8.926817 neck_f_3: 3.139631 neck_f_2: 1.739350 neck_f_1: 1.184705 neck_f_0: 0.943682 eta: 23:49:50 batch_cost: 0.3308 data_cost: 0.0011 ips: 6.0457 images/s\n",
      "[04/28 17:31:54] ppdet.engine INFO: Epoch: [0] [ 940/2500] learning_rate: 0.099998 loss_vfl: 0.962100 loss_bbox: 0.429792 loss_dfl: 0.235891 loss: 8.981893 neck_f_3: 3.451450 neck_f_2: 1.925792 neck_f_1: 1.165490 neck_f_0: 0.901296 eta: 23:48:38 batch_cost: 0.3320 data_cost: 0.0017 ips: 6.0241 images/s\n",
      "[04/28 17:32:01] ppdet.engine INFO: Epoch: [0] [ 960/2500] learning_rate: 0.099998 loss_vfl: 0.906035 loss_bbox: 0.431608 loss_dfl: 0.225224 loss: 6.552300 neck_f_3: 2.771562 neck_f_2: 1.252453 neck_f_1: 0.614193 neck_f_0: 0.513618 eta: 23:44:53 batch_cost: 0.3022 data_cost: 0.0007 ips: 6.6174 images/s\n",
      "[04/28 17:32:09] ppdet.engine INFO: Epoch: [0] [ 980/2500] learning_rate: 0.099998 loss_vfl: 0.951680 loss_bbox: 0.483326 loss_dfl: 0.230756 loss: 8.281140 neck_f_3: 3.007473 neck_f_2: 1.468320 neck_f_1: 0.834280 neck_f_0: 0.785163 eta: 23:42:41 batch_cost: 0.3186 data_cost: 0.0010 ips: 6.2775 images/s\n",
      "[04/28 17:32:18] ppdet.engine INFO: Epoch: [0] [1000/2500] learning_rate: 0.099998 loss_vfl: 0.998405 loss_bbox: 0.488996 loss_dfl: 0.235466 loss: 8.899484 neck_f_3: 3.391706 neck_f_2: 1.906074 neck_f_1: 1.138297 neck_f_0: 0.905657 eta: 23:42:33 batch_cost: 0.3425 data_cost: 0.0010 ips: 5.8393 images/s\n",
      "[04/28 17:32:26] ppdet.engine INFO: Epoch: [0] [1020/2500] learning_rate: 0.099998 loss_vfl: 1.009953 loss_bbox: 0.468625 loss_dfl: 0.234245 loss: 9.355435 neck_f_3: 3.378459 neck_f_2: 1.922814 neck_f_1: 1.268736 neck_f_0: 1.041194 eta: 23:42:02 batch_cost: 0.3378 data_cost: 0.0012 ips: 5.9215 images/s\n",
      "[04/28 17:32:35] ppdet.engine INFO: Epoch: [0] [1040/2500] learning_rate: 0.099998 loss_vfl: 0.901885 loss_bbox: 0.520487 loss_dfl: 0.236901 loss: 10.137975 neck_f_3: 3.664417 neck_f_2: 2.081905 neck_f_1: 1.182237 neck_f_0: 1.187708 eta: 23:42:49 batch_cost: 0.3541 data_cost: 0.0010 ips: 5.6475 images/s\n",
      "[04/28 17:32:43] ppdet.engine INFO: Epoch: [0] [1060/2500] learning_rate: 0.099998 loss_vfl: 0.965795 loss_bbox: 0.484054 loss_dfl: 0.225149 loss: 8.051939 neck_f_3: 3.109831 neck_f_2: 1.516304 neck_f_1: 0.858946 neck_f_0: 0.827871 eta: 23:39:57 batch_cost: 0.3076 data_cost: 0.0008 ips: 6.5019 images/s\n",
      "[04/28 17:32:50] ppdet.engine INFO: Epoch: [0] [1080/2500] learning_rate: 0.099998 loss_vfl: 1.022154 loss_bbox: 0.502279 loss_dfl: 0.247649 loss: 8.234801 neck_f_3: 3.198425 neck_f_2: 1.457562 neck_f_1: 0.733521 neck_f_0: 0.701768 eta: 23:37:03 batch_cost: 0.3059 data_cost: 0.0007 ips: 6.5382 images/s\n",
      "[04/28 17:32:59] ppdet.engine INFO: Epoch: [0] [1100/2500] learning_rate: 0.099997 loss_vfl: 0.965931 loss_bbox: 0.507066 loss_dfl: 0.249604 loss: 8.823200 neck_f_3: 3.309591 neck_f_2: 1.763485 neck_f_1: 1.054976 neck_f_0: 0.870054 eta: 23:36:11 batch_cost: 0.3316 data_cost: 0.0008 ips: 6.0312 images/s\n",
      "[04/28 17:33:06] ppdet.engine INFO: Epoch: [0] [1120/2500] learning_rate: 0.099997 loss_vfl: 1.020738 loss_bbox: 0.544966 loss_dfl: 0.242876 loss: 8.940652 neck_f_3: 3.195622 neck_f_2: 1.781280 neck_f_1: 1.149705 neck_f_0: 0.966464 eta: 23:33:10 batch_cost: 0.3022 data_cost: 0.0006 ips: 6.6179 images/s\n",
      "[04/28 17:33:14] ppdet.engine INFO: Epoch: [0] [1140/2500] learning_rate: 0.099997 loss_vfl: 0.976073 loss_bbox: 0.485164 loss_dfl: 0.222706 loss: 8.300755 neck_f_3: 3.235062 neck_f_2: 1.539003 neck_f_1: 1.048239 neck_f_0: 0.931400 eta: 23:31:58 batch_cost: 0.3258 data_cost: 0.0007 ips: 6.1394 images/s\n",
      "[04/28 17:33:22] ppdet.engine INFO: Epoch: [0] [1160/2500] learning_rate: 0.099997 loss_vfl: 0.996450 loss_bbox: 0.398268 loss_dfl: 0.225157 loss: 8.117611 neck_f_3: 3.092842 neck_f_2: 1.538412 neck_f_1: 0.925961 neck_f_0: 0.788293 eta: 23:29:26 batch_cost: 0.3065 data_cost: 0.0008 ips: 6.5244 images/s\n",
      "[04/28 17:33:30] ppdet.engine INFO: Epoch: [0] [1180/2500] learning_rate: 0.099997 loss_vfl: 0.936354 loss_bbox: 0.519163 loss_dfl: 0.220440 loss: 9.118196 neck_f_3: 3.515320 neck_f_2: 1.854753 neck_f_1: 1.064752 neck_f_0: 0.954190 eta: 23:29:12 batch_cost: 0.3380 data_cost: 0.0009 ips: 5.9165 images/s\n",
      "[04/28 17:33:38] ppdet.engine INFO: Epoch: [0] [1200/2500] learning_rate: 0.099997 loss_vfl: 1.000958 loss_bbox: 0.447112 loss_dfl: 0.219777 loss: 8.387596 neck_f_3: 3.204694 neck_f_2: 1.638673 neck_f_1: 0.874587 neck_f_0: 0.701406 eta: 23:28:02 batch_cost: 0.3247 data_cost: 0.0011 ips: 6.1604 images/s\n",
      "[04/28 17:33:46] ppdet.engine INFO: Epoch: [0] [1220/2500] learning_rate: 0.099997 loss_vfl: 0.944740 loss_bbox: 0.415236 loss_dfl: 0.228135 loss: 9.494734 neck_f_3: 3.278078 neck_f_2: 2.079768 neck_f_1: 1.369628 neck_f_0: 1.024390 eta: 23:26:01 batch_cost: 0.3115 data_cost: 0.0008 ips: 6.4214 images/s\n",
      "[04/28 17:33:54] ppdet.engine INFO: Epoch: [0] [1240/2500] learning_rate: 0.099997 loss_vfl: 1.083353 loss_bbox: 0.436624 loss_dfl: 0.231974 loss: 7.845363 neck_f_3: 3.202046 neck_f_2: 1.545851 neck_f_1: 0.980686 neck_f_0: 0.716916 eta: 23:25:32 batch_cost: 0.3335 data_cost: 0.0012 ips: 5.9961 images/s\n",
      "[04/28 17:34:03] ppdet.engine INFO: Epoch: [0] [1260/2500] learning_rate: 0.099996 loss_vfl: 0.850973 loss_bbox: 0.473427 loss_dfl: 0.220731 loss: 8.313405 neck_f_3: 3.297211 neck_f_2: 1.631750 neck_f_1: 0.954141 neck_f_0: 0.810439 eta: 23:26:09 batch_cost: 0.3501 data_cost: 0.0012 ips: 5.7118 images/s\n",
      "[04/28 17:34:11] ppdet.engine INFO: Epoch: [0] [1280/2500] learning_rate: 0.099996 loss_vfl: 1.057540 loss_bbox: 0.386336 loss_dfl: 0.219445 loss: 9.300115 neck_f_3: 3.297928 neck_f_2: 1.936472 neck_f_1: 1.042059 neck_f_0: 0.778540 eta: 23:24:17 batch_cost: 0.3122 data_cost: 0.0011 ips: 6.4064 images/s\n",
      "[04/28 17:34:19] ppdet.engine INFO: Epoch: [0] [1300/2500] learning_rate: 0.099996 loss_vfl: 0.942674 loss_bbox: 0.434594 loss_dfl: 0.208941 loss: 9.879605 neck_f_3: 3.419634 neck_f_2: 1.984479 neck_f_1: 1.365712 neck_f_0: 1.179018 eta: 23:23:00 batch_cost: 0.3204 data_cost: 0.0012 ips: 6.2423 images/s\n",
      "[04/28 17:34:26] ppdet.engine INFO: Epoch: [0] [1320/2500] learning_rate: 0.099996 loss_vfl: 1.103713 loss_bbox: 0.375984 loss_dfl: 0.217508 loss: 7.857246 neck_f_3: 2.906283 neck_f_2: 1.521663 neck_f_1: 0.712446 neck_f_0: 0.717305 eta: 23:20:39 batch_cost: 0.3027 data_cost: 0.0011 ips: 6.6069 images/s\n",
      "[04/28 17:34:35] ppdet.engine INFO: Epoch: [0] [1340/2500] learning_rate: 0.099996 loss_vfl: 0.998821 loss_bbox: 0.492792 loss_dfl: 0.236653 loss: 8.770079 neck_f_3: 3.343053 neck_f_2: 1.800161 neck_f_1: 1.006422 neck_f_0: 0.916754 eta: 23:21:03 batch_cost: 0.3463 data_cost: 0.0013 ips: 5.7760 images/s\n",
      "[04/28 17:34:42] ppdet.engine INFO: Epoch: [0] [1360/2500] learning_rate: 0.099996 loss_vfl: 1.014169 loss_bbox: 0.414363 loss_dfl: 0.225067 loss: 7.809447 neck_f_3: 3.139072 neck_f_2: 1.652494 neck_f_1: 0.911382 neck_f_0: 0.594793 eta: 23:18:17 batch_cost: 0.2945 data_cost: 0.0013 ips: 6.7905 images/s\n",
      "[04/28 17:34:50] ppdet.engine INFO: Epoch: [0] [1380/2500] learning_rate: 0.099995 loss_vfl: 0.967342 loss_bbox: 0.461088 loss_dfl: 0.223113 loss: 10.238248 neck_f_3: 3.574721 neck_f_2: 2.044735 neck_f_1: 1.364283 neck_f_0: 1.256297 eta: 23:17:48 batch_cost: 0.3311 data_cost: 0.0015 ips: 6.0400 images/s\n",
      "[04/28 17:34:59] ppdet.engine INFO: Epoch: [0] [1400/2500] learning_rate: 0.099995 loss_vfl: 1.066033 loss_bbox: 0.433429 loss_dfl: 0.223208 loss: 8.509542 neck_f_3: 3.345628 neck_f_2: 1.550179 neck_f_1: 0.928117 neck_f_0: 0.839921 eta: 23:17:29 batch_cost: 0.3340 data_cost: 0.0012 ips: 5.9884 images/s\n",
      "[04/28 17:35:07] ppdet.engine INFO: Epoch: [0] [1420/2500] learning_rate: 0.099995 loss_vfl: 0.954808 loss_bbox: 0.440957 loss_dfl: 0.207405 loss: 9.529062 neck_f_3: 3.472127 neck_f_2: 2.025608 neck_f_1: 1.110827 neck_f_0: 0.976974 eta: 23:17:53 batch_cost: 0.3460 data_cost: 0.0013 ips: 5.7802 images/s\n",
      "[04/28 17:35:15] ppdet.engine INFO: Epoch: [0] [1440/2500] learning_rate: 0.099995 loss_vfl: 0.903909 loss_bbox: 0.477254 loss_dfl: 0.213773 loss: 11.290238 neck_f_3: 4.164588 neck_f_2: 2.584991 neck_f_1: 1.573553 neck_f_0: 1.418149 eta: 23:17:32 batch_cost: 0.3333 data_cost: 0.0013 ips: 6.0003 images/s\n",
      "[04/28 17:35:24] ppdet.engine INFO: Epoch: [0] [1460/2500] learning_rate: 0.099995 loss_vfl: 0.943220 loss_bbox: 0.446305 loss_dfl: 0.218353 loss: 9.316508 neck_f_3: 3.370434 neck_f_2: 1.851823 neck_f_1: 1.207953 neck_f_0: 0.958462 eta: 23:16:59 batch_cost: 0.3296 data_cost: 0.0013 ips: 6.0677 images/s\n",
      "[04/28 17:35:32] ppdet.engine INFO: Epoch: [0] [1480/2500] learning_rate: 0.099994 loss_vfl: 0.966291 loss_bbox: 0.448006 loss_dfl: 0.210288 loss: 8.013676 neck_f_3: 3.078223 neck_f_2: 1.644346 neck_f_1: 0.995965 neck_f_0: 0.915500 eta: 23:15:35 batch_cost: 0.3142 data_cost: 0.0016 ips: 6.3653 images/s\n",
      "[04/28 17:35:40] ppdet.engine INFO: Epoch: [0] [1500/2500] learning_rate: 0.099994 loss_vfl: 0.987128 loss_bbox: 0.457623 loss_dfl: 0.211202 loss: 8.354382 neck_f_3: 3.285092 neck_f_2: 1.539270 neck_f_1: 0.891649 neck_f_0: 0.753376 eta: 23:15:20 batch_cost: 0.3344 data_cost: 0.0009 ips: 5.9811 images/s\n",
      "[04/28 17:35:48] ppdet.engine INFO: Epoch: [0] [1520/2500] learning_rate: 0.099994 loss_vfl: 0.934422 loss_bbox: 0.466771 loss_dfl: 0.221983 loss: 8.661808 neck_f_3: 3.476932 neck_f_2: 1.798416 neck_f_1: 0.993095 neck_f_0: 0.863728 eta: 23:14:35 batch_cost: 0.3254 data_cost: 0.0015 ips: 6.1466 images/s\n",
      "[04/28 17:35:56] ppdet.engine INFO: Epoch: [0] [1540/2500] learning_rate: 0.099994 loss_vfl: 1.054509 loss_bbox: 0.448838 loss_dfl: 0.220423 loss: 7.748174 neck_f_3: 3.090211 neck_f_2: 1.504753 neck_f_1: 0.860417 neck_f_0: 0.784630 eta: 23:14:14 batch_cost: 0.3322 data_cost: 0.0014 ips: 6.0204 images/s\n",
      "[04/28 17:36:06] ppdet.engine INFO: Epoch: [0] [1560/2500] learning_rate: 0.099994 loss_vfl: 0.899212 loss_bbox: 0.430789 loss_dfl: 0.211492 loss: 8.737270 neck_f_3: 3.195244 neck_f_2: 1.678527 neck_f_1: 1.130567 neck_f_0: 0.992171 eta: 23:17:39 batch_cost: 0.4034 data_cost: 0.0018 ips: 4.9580 images/s\n",
      "[04/28 17:36:13] ppdet.engine INFO: Epoch: [0] [1580/2500] learning_rate: 0.099994 loss_vfl: 0.974759 loss_bbox: 0.415315 loss_dfl: 0.212551 loss: 8.955300 neck_f_3: 3.263397 neck_f_2: 1.861477 neck_f_1: 1.010133 neck_f_0: 0.953174 eta: 23:13:00 batch_cost: 0.2510 data_cost: 0.0009 ips: 7.9697 images/s\n",
      "[04/28 17:36:19] ppdet.engine INFO: Epoch: [0] [1600/2500] learning_rate: 0.099993 loss_vfl: 1.000642 loss_bbox: 0.461416 loss_dfl: 0.223569 loss: 11.052379 neck_f_3: 3.606613 neck_f_2: 2.342355 neck_f_1: 1.438007 neck_f_0: 1.354922 eta: 23:08:13 batch_cost: 0.2461 data_cost: 0.0133 ips: 8.1282 images/s\n",
      "[04/28 17:36:24] ppdet.engine INFO: Epoch: [0] [1620/2500] learning_rate: 0.099993 loss_vfl: 1.003069 loss_bbox: 0.427958 loss_dfl: 0.203575 loss: 9.175464 neck_f_3: 3.458903 neck_f_2: 1.750701 neck_f_1: 1.194565 neck_f_0: 1.014386 eta: 23:01:57 batch_cost: 0.2147 data_cost: 0.0197 ips: 9.3135 images/s\n",
      "[04/28 17:36:29] ppdet.engine INFO: Epoch: [0] [1640/2500] learning_rate: 0.099993 loss_vfl: 1.015316 loss_bbox: 0.456111 loss_dfl: 0.223965 loss: 9.302194 neck_f_3: 3.186485 neck_f_2: 1.763358 neck_f_1: 1.294662 neck_f_0: 1.033128 eta: 22:54:44 batch_cost: 0.1930 data_cost: 0.0008 ips: 10.3648 images/s\n",
      "[04/28 17:36:35] ppdet.engine INFO: Epoch: [0] [1660/2500] learning_rate: 0.099993 loss_vfl: 1.026238 loss_bbox: 0.450746 loss_dfl: 0.217017 loss: 9.241588 neck_f_3: 3.296697 neck_f_2: 1.898489 neck_f_1: 1.241942 neck_f_0: 1.204889 eta: 22:48:46 batch_cost: 0.2146 data_cost: 0.0007 ips: 9.3202 images/s\n",
      "[04/28 17:36:41] ppdet.engine INFO: Epoch: [0] [1680/2500] learning_rate: 0.099992 loss_vfl: 0.919480 loss_bbox: 0.457564 loss_dfl: 0.214519 loss: 9.628696 neck_f_3: 3.542025 neck_f_2: 1.906259 neck_f_1: 1.329803 neck_f_0: 1.080244 eta: 22:43:30 batch_cost: 0.2259 data_cost: 0.0166 ips: 8.8529 images/s\n",
      "[04/28 17:36:46] ppdet.engine INFO: Epoch: [0] [1700/2500] learning_rate: 0.099992 loss_vfl: 0.926118 loss_bbox: 0.422765 loss_dfl: 0.206894 loss: 9.644578 neck_f_3: 3.386362 neck_f_2: 1.857108 neck_f_1: 1.201725 neck_f_0: 1.021217 eta: 22:37:43 batch_cost: 0.2131 data_cost: 0.0006 ips: 9.3860 images/s\n",
      "[04/28 17:36:51] ppdet.engine INFO: Epoch: [0] [1720/2500] learning_rate: 0.099992 loss_vfl: 1.050923 loss_bbox: 0.419231 loss_dfl: 0.218367 loss: 9.328242 neck_f_3: 3.379999 neck_f_2: 1.859129 neck_f_1: 1.161389 neck_f_0: 0.946985 eta: 22:31:06 batch_cost: 0.1927 data_cost: 0.0004 ips: 10.3774 images/s\n",
      "[04/28 17:36:56] ppdet.engine INFO: Epoch: [0] [1740/2500] learning_rate: 0.099992 loss_vfl: 0.935816 loss_bbox: 0.453156 loss_dfl: 0.224596 loss: 10.015144 neck_f_3: 3.556366 neck_f_2: 2.044758 neck_f_1: 1.231628 neck_f_0: 1.061880 eta: 22:25:27 batch_cost: 0.2099 data_cost: 0.0093 ips: 9.5295 images/s\n",
      "[04/28 17:37:02] ppdet.engine INFO: Epoch: [0] [1760/2500] learning_rate: 0.099992 loss_vfl: 1.075513 loss_bbox: 0.410950 loss_dfl: 0.217609 loss: 8.738150 neck_f_3: 3.532412 neck_f_2: 1.831586 neck_f_1: 1.050406 neck_f_0: 0.846317 eta: 22:19:58 batch_cost: 0.2109 data_cost: 0.0007 ips: 9.4851 images/s\n",
      "[04/28 17:37:07] ppdet.engine INFO: Epoch: [0] [1780/2500] learning_rate: 0.099991 loss_vfl: 0.924707 loss_bbox: 0.469264 loss_dfl: 0.216582 loss: 8.803757 neck_f_3: 3.295809 neck_f_2: 1.817802 neck_f_1: 1.013520 neck_f_0: 0.902747 eta: 22:14:46 batch_cost: 0.2140 data_cost: 0.0034 ips: 9.3452 images/s\n",
      "[04/28 17:37:13] ppdet.engine INFO: Epoch: [0] [1800/2500] learning_rate: 0.099991 loss_vfl: 0.944207 loss_bbox: 0.461340 loss_dfl: 0.209176 loss: 9.176192 neck_f_3: 3.507237 neck_f_2: 1.812222 neck_f_1: 1.075344 neck_f_0: 0.885531 eta: 22:09:34 batch_cost: 0.2118 data_cost: 0.0007 ips: 9.4431 images/s\n",
      "[04/28 17:37:18] ppdet.engine INFO: Epoch: [0] [1820/2500] learning_rate: 0.099991 loss_vfl: 0.917313 loss_bbox: 0.423886 loss_dfl: 0.205373 loss: 9.351188 neck_f_3: 3.537507 neck_f_2: 2.043405 neck_f_1: 1.047615 neck_f_0: 0.928357 eta: 22:04:13 batch_cost: 0.2063 data_cost: 0.0007 ips: 9.6931 images/s\n",
      "[04/28 17:37:23] ppdet.engine INFO: Epoch: [0] [1840/2500] learning_rate: 0.099991 loss_vfl: 1.019057 loss_bbox: 0.409420 loss_dfl: 0.202696 loss: 8.485528 neck_f_3: 3.297311 neck_f_2: 1.691326 neck_f_1: 0.983165 neck_f_0: 0.802874 eta: 21:59:25 batch_cost: 0.2155 data_cost: 0.0008 ips: 9.2795 images/s\n",
      "[04/28 17:37:29] ppdet.engine INFO: Epoch: [0] [1860/2500] learning_rate: 0.099990 loss_vfl: 0.995320 loss_bbox: 0.380014 loss_dfl: 0.211487 loss: 9.776639 neck_f_3: 3.480120 neck_f_2: 2.143527 neck_f_1: 1.267580 neck_f_0: 1.143664 eta: 21:54:50 batch_cost: 0.2183 data_cost: 0.0008 ips: 9.1607 images/s\n",
      "[04/28 17:37:34] ppdet.engine INFO: Epoch: [0] [1880/2500] learning_rate: 0.099990 loss_vfl: 1.006376 loss_bbox: 0.469635 loss_dfl: 0.222803 loss: 10.014278 neck_f_3: 3.491154 neck_f_2: 2.157697 neck_f_1: 1.275948 neck_f_0: 1.185321 eta: 21:49:50 batch_cost: 0.2067 data_cost: 0.0017 ips: 9.6764 images/s\n",
      "[04/28 17:37:39] ppdet.engine INFO: Epoch: [0] [1900/2500] learning_rate: 0.099990 loss_vfl: 1.076930 loss_bbox: 0.346711 loss_dfl: 0.216470 loss: 8.578298 neck_f_3: 3.131102 neck_f_2: 1.706746 neck_f_1: 1.051049 neck_f_0: 0.788422 eta: 21:44:31 batch_cost: 0.1967 data_cost: 0.0007 ips: 10.1677 images/s\n",
      "[04/28 17:37:45] ppdet.engine INFO: Epoch: [0] [1920/2500] learning_rate: 0.099990 loss_vfl: 0.923892 loss_bbox: 0.420239 loss_dfl: 0.206192 loss: 9.451065 neck_f_3: 3.509935 neck_f_2: 1.787401 neck_f_1: 1.167891 neck_f_0: 0.984751 eta: 21:39:59 batch_cost: 0.2127 data_cost: 0.0025 ips: 9.4046 images/s\n",
      "[04/28 17:37:50] ppdet.engine INFO: Epoch: [0] [1940/2500] learning_rate: 0.099989 loss_vfl: 0.896172 loss_bbox: 0.439925 loss_dfl: 0.218790 loss: 8.539588 neck_f_3: 3.297517 neck_f_2: 1.766672 neck_f_1: 0.937243 neck_f_0: 0.860760 eta: 21:36:22 batch_cost: 0.2322 data_cost: 0.0274 ips: 8.6126 images/s\n",
      "[04/28 17:37:56] ppdet.engine INFO: Epoch: [0] [1960/2500] learning_rate: 0.099989 loss_vfl: 0.900730 loss_bbox: 0.458082 loss_dfl: 0.207135 loss: 8.310659 neck_f_3: 3.430416 neck_f_2: 1.546075 neck_f_1: 0.831892 neck_f_0: 0.712146 eta: 21:31:45 batch_cost: 0.2063 data_cost: 0.0007 ips: 9.6925 images/s\n",
      "[04/28 17:38:01] ppdet.engine INFO: Epoch: [0] [1980/2500] learning_rate: 0.099989 loss_vfl: 0.908793 loss_bbox: 0.448048 loss_dfl: 0.205831 loss: 9.009489 neck_f_3: 3.275967 neck_f_2: 1.877678 neck_f_1: 1.176108 neck_f_0: 0.959475 eta: 21:27:17 batch_cost: 0.2079 data_cost: 0.0008 ips: 9.6191 images/s\n",
      "[04/28 17:38:06] ppdet.engine INFO: Epoch: [0] [2000/2500] learning_rate: 0.099989 loss_vfl: 1.057555 loss_bbox: 0.453277 loss_dfl: 0.208469 loss: 9.124117 neck_f_3: 3.270295 neck_f_2: 1.662329 neck_f_1: 0.965004 neck_f_0: 0.919942 eta: 21:23:00 batch_cost: 0.2105 data_cost: 0.0129 ips: 9.5015 images/s\n",
      "[04/28 17:38:12] ppdet.engine INFO: Epoch: [0] [2020/2500] learning_rate: 0.099988 loss_vfl: 0.955928 loss_bbox: 0.440940 loss_dfl: 0.212909 loss: 8.731691 neck_f_3: 3.331377 neck_f_2: 1.715067 neck_f_1: 0.994933 neck_f_0: 1.113501 eta: 21:18:29 batch_cost: 0.2023 data_cost: 0.0007 ips: 9.8853 images/s\n",
      "[04/28 17:38:17] ppdet.engine INFO: Epoch: [0] [2040/2500] learning_rate: 0.099988 loss_vfl: 0.905912 loss_bbox: 0.400405 loss_dfl: 0.203772 loss: 8.405066 neck_f_3: 3.206846 neck_f_2: 1.646636 neck_f_1: 0.974627 neck_f_0: 0.940159 eta: 21:13:58 batch_cost: 0.2004 data_cost: 0.0007 ips: 9.9789 images/s\n",
      "[04/28 17:38:22] ppdet.engine INFO: Epoch: [0] [2060/2500] learning_rate: 0.099988 loss_vfl: 1.002706 loss_bbox: 0.468553 loss_dfl: 0.226681 loss: 8.774260 neck_f_3: 3.227773 neck_f_2: 1.765923 neck_f_1: 0.898981 neck_f_0: 0.901623 eta: 21:09:36 batch_cost: 0.2019 data_cost: 0.0019 ips: 9.9076 images/s\n",
      "[04/28 17:38:27] ppdet.engine INFO: Epoch: [0] [2080/2500] learning_rate: 0.099987 loss_vfl: 0.974688 loss_bbox: 0.390610 loss_dfl: 0.203364 loss: 8.105344 neck_f_3: 3.035532 neck_f_2: 1.400436 neck_f_1: 0.950260 neck_f_0: 0.882081 eta: 21:05:45 batch_cost: 0.2128 data_cost: 0.0008 ips: 9.3991 images/s\n",
      "[04/28 17:38:33] ppdet.engine INFO: Epoch: [0] [2100/2500] learning_rate: 0.099987 loss_vfl: 1.031162 loss_bbox: 0.394900 loss_dfl: 0.200688 loss: 8.409457 neck_f_3: 3.081347 neck_f_2: 1.758003 neck_f_1: 0.924786 neck_f_0: 0.882410 eta: 21:01:50 batch_cost: 0.2094 data_cost: 0.0017 ips: 9.5518 images/s\n",
      "[04/28 17:38:38] ppdet.engine INFO: Epoch: [0] [2120/2500] learning_rate: 0.099987 loss_vfl: 1.056559 loss_bbox: 0.481621 loss_dfl: 0.219712 loss: 9.183382 neck_f_3: 3.516919 neck_f_2: 1.939112 neck_f_1: 0.965418 neck_f_0: 0.951504 eta: 20:57:53 batch_cost: 0.2068 data_cost: 0.0064 ips: 9.6706 images/s\n",
      "[04/28 17:38:43] ppdet.engine INFO: Epoch: [0] [2140/2500] learning_rate: 0.099987 loss_vfl: 0.986324 loss_bbox: 0.421584 loss_dfl: 0.206568 loss: 8.554299 neck_f_3: 3.294761 neck_f_2: 1.660138 neck_f_1: 1.016422 neck_f_0: 0.949287 eta: 20:53:35 batch_cost: 0.1957 data_cost: 0.0006 ips: 10.2215 images/s\n",
      "[04/28 17:38:49] ppdet.engine INFO: Epoch: [0] [2160/2500] learning_rate: 0.099986 loss_vfl: 0.943200 loss_bbox: 0.451702 loss_dfl: 0.201790 loss: 9.028065 neck_f_3: 3.140911 neck_f_2: 1.857526 neck_f_1: 1.138546 neck_f_0: 0.974567 eta: 20:50:09 batch_cost: 0.2163 data_cost: 0.0039 ips: 9.2470 images/s\n",
      "[04/28 17:38:54] ppdet.engine INFO: Epoch: [0] [2180/2500] learning_rate: 0.099986 loss_vfl: 1.039150 loss_bbox: 0.354592 loss_dfl: 0.217486 loss: 7.604303 neck_f_3: 2.993153 neck_f_2: 1.441331 neck_f_1: 0.882309 neck_f_0: 0.838052 eta: 20:46:24 batch_cost: 0.2060 data_cost: 0.0006 ips: 9.7087 images/s\n",
      "[04/28 17:39:01] ppdet.engine INFO: Epoch: [0] [2200/2500] learning_rate: 0.099986 loss_vfl: 0.955000 loss_bbox: 0.372154 loss_dfl: 0.207683 loss: 7.282795 neck_f_3: 2.846679 neck_f_2: 1.330444 neck_f_1: 0.839825 neck_f_0: 0.629246 eta: 20:45:31 batch_cost: 0.2810 data_cost: 0.0010 ips: 7.1169 images/s\n",
      "[04/28 17:39:10] ppdet.engine INFO: Epoch: [0] [2220/2500] learning_rate: 0.099985 loss_vfl: 0.982188 loss_bbox: 0.415556 loss_dfl: 0.207617 loss: 9.193014 neck_f_3: 3.332721 neck_f_2: 1.952360 neck_f_1: 1.134935 neck_f_0: 0.989851 eta: 20:47:09 batch_cost: 0.3482 data_cost: 0.0015 ips: 5.7433 images/s\n",
      "[04/28 17:39:18] ppdet.engine INFO: Epoch: [0] [2240/2500] learning_rate: 0.099985 loss_vfl: 1.018475 loss_bbox: 0.386714 loss_dfl: 0.213929 loss: 7.743725 neck_f_3: 3.056314 neck_f_2: 1.395684 neck_f_1: 0.764975 neck_f_0: 0.694824 eta: 20:47:52 batch_cost: 0.3244 data_cost: 0.0011 ips: 6.1660 images/s\n",
      "[04/28 17:39:25] ppdet.engine INFO: Epoch: [0] [2260/2500] learning_rate: 0.099985 loss_vfl: 0.947589 loss_bbox: 0.410897 loss_dfl: 0.211222 loss: 8.094104 neck_f_3: 3.124777 neck_f_2: 1.566613 neck_f_1: 0.862497 neck_f_0: 0.790491 eta: 20:46:56 batch_cost: 0.2794 data_cost: 0.0012 ips: 7.1593 images/s\n",
      "[04/28 17:39:32] ppdet.engine INFO: Epoch: [0] [2280/2500] learning_rate: 0.099984 loss_vfl: 1.021198 loss_bbox: 0.443810 loss_dfl: 0.203904 loss: 8.547128 neck_f_3: 3.267207 neck_f_2: 1.726575 neck_f_1: 1.080826 neck_f_0: 0.986367 eta: 20:45:39 batch_cost: 0.2692 data_cost: 0.0009 ips: 7.4292 images/s\n",
      "[04/28 17:39:38] ppdet.engine INFO: Epoch: [0] [2300/2500] learning_rate: 0.099984 loss_vfl: 0.983037 loss_bbox: 0.395884 loss_dfl: 0.210165 loss: 7.498306 neck_f_3: 2.986050 neck_f_2: 1.339553 neck_f_1: 0.777882 neck_f_0: 0.760237 eta: 20:43:24 batch_cost: 0.2419 data_cost: 0.0008 ips: 8.2686 images/s\n",
      "[04/28 17:39:45] ppdet.engine INFO: Epoch: [0] [2320/2500] learning_rate: 0.099984 loss_vfl: 0.913992 loss_bbox: 0.407035 loss_dfl: 0.211671 loss: 8.953783 neck_f_3: 3.426384 neck_f_2: 1.742229 neck_f_1: 0.983564 neck_f_0: 1.000216 eta: 20:41:48 batch_cost: 0.2591 data_cost: 0.0050 ips: 7.7193 images/s\n",
      "[04/28 17:39:52] ppdet.engine INFO: Epoch: [0] [2340/2500] learning_rate: 0.099984 loss_vfl: 0.972879 loss_bbox: 0.406991 loss_dfl: 0.203664 loss: 8.948455 neck_f_3: 3.171017 neck_f_2: 1.767402 neck_f_1: 1.232021 neck_f_0: 1.018412 eta: 20:40:39 batch_cost: 0.2708 data_cost: 0.0008 ips: 7.3857 images/s\n",
      "[04/28 17:39:59] ppdet.engine INFO: Epoch: [0] [2360/2500] learning_rate: 0.099983 loss_vfl: 0.932369 loss_bbox: 0.406125 loss_dfl: 0.195281 loss: 8.003053 neck_f_3: 3.049454 neck_f_2: 1.659456 neck_f_1: 0.820071 neck_f_0: 0.685530 eta: 20:39:19 batch_cost: 0.2653 data_cost: 0.0197 ips: 7.5386 images/s\n",
      "[04/28 17:40:06] ppdet.engine INFO: Epoch: [0] [2380/2500] learning_rate: 0.099983 loss_vfl: 0.945834 loss_bbox: 0.344367 loss_dfl: 0.209908 loss: 8.954186 neck_f_3: 3.310043 neck_f_2: 1.854655 neck_f_1: 1.146526 neck_f_0: 0.938639 eta: 20:38:14 batch_cost: 0.2722 data_cost: 0.0041 ips: 7.3475 images/s\n",
      "[04/28 17:40:13] ppdet.engine INFO: Epoch: [0] [2400/2500] learning_rate: 0.099983 loss_vfl: 0.987800 loss_bbox: 0.405285 loss_dfl: 0.209028 loss: 9.034756 neck_f_3: 3.474387 neck_f_2: 1.799836 neck_f_1: 1.021851 neck_f_0: 0.803037 eta: 20:37:55 batch_cost: 0.2936 data_cost: 0.0084 ips: 6.8121 images/s\n",
      "[04/28 17:40:20] ppdet.engine INFO: Epoch: [0] [2420/2500] learning_rate: 0.099982 loss_vfl: 1.067054 loss_bbox: 0.451225 loss_dfl: 0.208370 loss: 8.461547 neck_f_3: 3.118809 neck_f_2: 1.628492 neck_f_1: 0.999347 neck_f_0: 0.893013 eta: 20:37:05 batch_cost: 0.2785 data_cost: 0.0041 ips: 7.1810 images/s\n",
      "[04/28 17:40:27] ppdet.engine INFO: Epoch: [0] [2440/2500] learning_rate: 0.099982 loss_vfl: 0.862948 loss_bbox: 0.411976 loss_dfl: 0.192521 loss: 8.608498 neck_f_3: 3.217046 neck_f_2: 1.759466 neck_f_1: 0.974489 neck_f_0: 0.878099 eta: 20:36:09 batch_cost: 0.2753 data_cost: 0.0030 ips: 7.2649 images/s\n",
      "[04/28 17:40:34] ppdet.engine INFO: Epoch: [0] [2460/2500] learning_rate: 0.099982 loss_vfl: 0.970638 loss_bbox: 0.380520 loss_dfl: 0.193357 loss: 7.800540 neck_f_3: 2.956288 neck_f_2: 1.554034 neck_f_1: 0.829347 neck_f_0: 0.769711 eta: 20:34:31 batch_cost: 0.2539 data_cost: 0.0009 ips: 7.8778 images/s\n",
      "[04/28 17:40:39] ppdet.engine INFO: Epoch: [0] [2480/2500] learning_rate: 0.099981 loss_vfl: 0.931492 loss_bbox: 0.406200 loss_dfl: 0.204776 loss: 7.840468 neck_f_3: 3.140076 neck_f_2: 1.522915 neck_f_1: 0.860294 neck_f_0: 0.737721 eta: 20:31:34 batch_cost: 0.2135 data_cost: 0.0010 ips: 9.3672 images/s\n",
      "[04/28 17:40:45] ppdet.utils.checkpoint INFO: Save checkpoint: output\n",
      "Traceback (most recent call last):\n",
      "  File \"../tools/train.py\", line 209, in <module>\n",
      "    main()\n",
      "  File \"../tools/train.py\", line 205, in main\n",
      "    run(FLAGS, cfg)\n",
      "  File \"../tools/train.py\", line 158, in run\n",
      "    trainer.train(FLAGS.eval)\n",
      "  File \"/home/lstm/github/PaddleDetection/ppdet/engine/trainer.py\", line 626, in train\n",
      "    self._eval_loader = create('EvalReader')(\n",
      "  File \"/home/lstm/github/PaddleDetection/ppdet/data/reader.py\", line 168, in __call__\n",
      "    self.dataset.parse_dataset()\n",
      "  File \"/home/lstm/github/PaddleDetection/ppdet/data/source/coco.py\", line 88, in parse_dataset\n",
      "    anno_path = os.path.join(self.dataset_dir, self.anno_path)\n",
      "  File \"/home/lstm/miniconda3/envs/pp261/lib/python3.8/posixpath.py\", line 90, in join\n",
      "    genericpath._check_arg_types('join', a, *p)\n",
      "  File \"/home/lstm/miniconda3/envs/pp261/lib/python3.8/genericpath.py\", line 152, in _check_arg_types\n",
      "    raise TypeError(f'{funcname}() argument must be str, bytes, or '\n",
      "TypeError: join() argument must be str, bytes, or os.PathLike object, not 'NoneType'\n"
     ]
    }
   ],
   "source": [
    "!{command}\n",
    "# output = subprocess.run(command, shell=True, capture_output=True)"
   ]
  },
  {
   "cell_type": "code",
   "execution_count": null,
   "metadata": {},
   "outputs": [],
   "source": [
    "# run visualdl in shell (from ./tuning dir)\n",
    "# visualdl --logdir ./vdl_log/20240428-041209 --port 7070"
   ]
  },
  {
   "cell_type": "markdown",
   "metadata": {},
   "source": [
    "## Tune"
   ]
  },
  {
   "cell_type": "code",
   "execution_count": null,
   "metadata": {},
   "outputs": [],
   "source": [
    "# -r output/faster_rcnn_r50_1x_coco/10000"
   ]
  },
  {
   "cell_type": "markdown",
   "metadata": {},
   "source": [
    "## Eval"
   ]
  },
  {
   "cell_type": "code",
   "execution_count": null,
   "metadata": {},
   "outputs": [],
   "source": [
    "\n",
    "command = (\n",
    "    \"python3 ../tools/eval.py\",\n",
    "    \"-c ../configs/picodet/legacy_model/application/layout_analysis/krcase_layout_train.yml\",\n",
    "    \"--slim_config ../configs/picodet/legacy_model/application/layout_analysis/krcase_layout_distill.yml\",\n",
    "    # \"-o weights=../output/best_model\",\n",
    "    \"-o weights=../output/0.pdparams\",\n",
    "    # \"use_gpu=true\",\n",
    "    \"--use_vdl=True --vdl_log_dir=vdl_log\"\n",
    "    )\n",
    "command = \" \".join(command)\n",
    "print(command)"
   ]
  },
  {
   "cell_type": "code",
   "execution_count": null,
   "metadata": {},
   "outputs": [],
   "source": [
    "!{command}"
   ]
  },
  {
   "cell_type": "markdown",
   "metadata": {},
   "source": [
    "## Test \n",
    "##### Strategy: use command line method to test trained weights; create inference model for production."
   ]
  },
  {
   "cell_type": "markdown",
   "metadata": {},
   "source": [
    "#### Test prep (convert PDFs to images)"
   ]
  },
  {
   "cell_type": "code",
   "execution_count": null,
   "metadata": {},
   "outputs": [],
   "source": [
    "# convert pdf to image and save\n",
    "\n",
    "import fitz\n",
    "import os\n",
    "\n",
    "pdf_folder = './testdata/'\n",
    "# pdf_folder = './tuning/testdata/'\n",
    "\n",
    "for pdf_path in os.listdir(pdf_folder):\n",
    "\n",
    "    if not pdf_path.endswith('.pdf'):\n",
    "        continue\n",
    "\n",
    "    pdf_name = os.path.splitext(pdf_path)[0]\n",
    "    img_folder = os.path.join(pdf_folder, pdf_name)\n",
    "    if not os.path.isdir(img_folder):\n",
    "        os.mkdir(img_folder)\n",
    "\n",
    "    pdf_path = os.path.join(pdf_folder, pdf_path)\n",
    "    doc = fitz.open(pdf_path)\n",
    "\n",
    "    for page_num in range(len(doc)):\n",
    "        page = doc.load_page(page_num)\n",
    "        img_name = os.path.join(img_folder, f'{page_num}.png')\n",
    "        if not os.path.isfile(img_name):\n",
    "            page.get_pixmap().save(img_name)\n",
    "        else:\n",
    "            print(f\"{img_name} exists!\")            \n",
    "\n",
    "    doc.close()"
   ]
  },
  {
   "cell_type": "markdown",
   "metadata": {},
   "source": [
    "#### Test inference"
   ]
  },
  {
   "cell_type": "code",
   "execution_count": 3,
   "metadata": {},
   "outputs": [],
   "source": [
    "configfile = \"../configs/picodet/legacy_model/application/layout_analysis/krcase_layout_train.yml\"\n",
    "slim_configfile = \" ../configs/picodet/legacy_model/application/layout_analysis/krcase_layout_distill.yml\"\n",
    "# opts = \"weights=./trained_weights/output_20240423/best_model/model.pdparams\"\n",
    "\n",
    "inference_datafolder = './testdata'\n",
    "testdoc_img_folder = 'adobe_대법원_2020도1007_판결서'\n",
    "\n",
    "inference_outputfolder = './testoutput'\n",
    "testout_img_folder = 'adobe_대법원_2020도1007_판결서'"
   ]
  },
  {
   "cell_type": "code",
   "execution_count": 4,
   "metadata": {},
   "outputs": [
    {
     "name": "stdout",
     "output_type": "stream",
     "text": [
      "{\n",
      "    \"config\": \"../configs/picodet/legacy_model/application/layout_analysis/krcase_layout_train.yml\",\n",
      "    \"slim_config\": \" ../configs/picodet/legacy_model/application/layout_analysis/krcase_layout_distill.yml\",\n",
      "    \"infer_dir\": \"./testdata/adobe_\\ub300\\ubc95\\uc6d0_2020\\ub3c41007_\\ud310\\uacb0\\uc11c\",\n",
      "    \"infer_img\": null,\n",
      "    \"output_dir\": \"./testdata/adobe_\\ub300\\ubc95\\uc6d0_2020\\ub3c41007_\\ud310\\uacb0\\uc11c\",\n",
      "    \"draw_threshold\": 0.5,\n",
      "    \"use_vdl\": true,\n",
      "    \"vdl_log_dir\": \"/vdl_log_test\",\n",
      "    \"save_results\": false,\n",
      "    \"visualize\": true\n",
      "}\n"
     ]
    }
   ],
   "source": [
    "args = {\n",
    "    'config': configfile,\n",
    "    'slim_config': slim_configfile,\n",
    "    'infer_dir': f'{inference_datafolder}/{testdoc_img_folder}',\n",
    "    'infer_img': None,\n",
    "    'output_dir': f'{inference_datafolder}/{testout_img_folder}',\n",
    "    'draw_threshold': 0.5, # default    \n",
    "    'use_vdl': True,\n",
    "    'vdl_log_dir': '/vdl_log_test',\n",
    "    'save_results': False,\n",
    "    # slice_infer, action='store_true',\n",
    "    # slice_size, nargs='+,\n",
    "    # overlap_ratio, nargs='+',\n",
    "    # combine_method: None,\n",
    "    # match_threshold: None,\n",
    "    # match_metric: None,\n",
    "    'visualize': True\n",
    "}\n",
    "\n",
    "print(json.dumps(args, indent=4))"
   ]
  },
  {
   "cell_type": "code",
   "execution_count": 5,
   "metadata": {},
   "outputs": [],
   "source": [
    "datapath = 'testdata'\n",
    "filelist = os.listdir(datapath)\n",
    "\n",
    "def pdf2byte(filename):\n",
    "    pdf = fitz.open(os.path.join(datapath, filename))\n",
    "    for pg in range(pdf.pageCount):\n",
    "        # convert pdf to image and store in local variable\n",
    "        page = pdf[pg]\n",
    "        pix = page.getPixmap()\n",
    "        img_data = page.getPixmap().tobytes(\"png\")\n",
    "        # stor pix in local variable\n"
   ]
  },
  {
   "cell_type": "code",
   "execution_count": 28,
   "metadata": {},
   "outputs": [
    {
     "name": "stdout",
     "output_type": "stream",
     "text": [
      "python3 ../tools/infer.py -c ../configs/picodet/legacy_model/application/layout_analysis/krcase_layout_test.yml --slim_config  ../configs/picodet/legacy_model/application/layout_analysis/krcase_layout_distill.yml --infer_dir=./testdata/adobe_대법원_2020도1007_판결서 -o weights=./trained_weights/output_20240428/best_model/model.pdparams --draw_threshold=0.5 --use_vdl=True --vdl_log_dir=./vdl_log_test --output_dir=./testresults\n",
      "/bin/bash: /home/lstm/miniconda3/envs/pp261/lib/libtinfo.so.6: no version information available (required by /bin/bash)\n",
      "W0428 16:00:08.365183 1361093 gpu_resources.cc:119] Please NOTE: device: 0, GPU Compute Capability: 7.5, Driver API Version: 12.4, Runtime API Version: 11.8\n",
      "W0428 16:00:08.367453 1361093 gpu_resources.cc:164] device: 0, cuDNN Version: 8.8.\n",
      "[04/28 16:00:09] ppdet.utils.checkpoint INFO: Finish loading model weights: ./trained_weights/output_20240428/best_model/model.pdparams\n",
      "[04/28 16:00:09] train INFO: Found 4 inference images in total.\n",
      "libpng error: IDAT: bad parameters to zlib\n",
      "  0%|                                                     | 0/4 [00:00<?, ?it/s][04/28 16:00:09] reader WARNING: fail to map sample transform [Decode_9bb0c8] with error: 'bytes' object has no attribute 'shape' and stack:\n",
      "Traceback (most recent call last):\n",
      "  File \"/home/lstm/github/PaddleDetection/ppdet/data/reader.py\", line 59, in __call__\n",
      "    data = f(data)\n",
      "  File \"/home/lstm/github/PaddleDetection/ppdet/data/transform/operators.py\", line 107, in __call__\n",
      "    sample = self.apply(sample, context)\n",
      "  File \"/home/lstm/github/PaddleDetection/ppdet/data/transform/operators.py\", line 140, in apply\n",
      "    sample['h'] = im.shape[0]\n",
      "AttributeError: 'bytes' object has no attribute 'shape'\n",
      "\n",
      "Exception in thread Thread-2:\n",
      "Traceback (most recent call last):\n",
      "  File \"/home/lstm/miniconda3/envs/pp261/lib/python3.8/threading.py\", line 932, in _bootstrap_inner\n",
      "    self.run()\n",
      "  File \"/home/lstm/miniconda3/envs/pp261/lib/python3.8/threading.py\", line 870, in run\n",
      "    self._target(*self._args, **self._kwargs)\n",
      "  File \"/home/lstm/miniconda3/envs/pp261/lib/python3.8/site-packages/paddle/io/dataloader/dataloader_iter.py\", line 235, in _thread_loop\n",
      "    batch = self._dataset_fetcher.fetch(\n",
      "  File \"/home/lstm/miniconda3/envs/pp261/lib/python3.8/site-packages/paddle/io/dataloader/fetcher.py\", line 77, in fetch\n",
      "    data.append(self.dataset[idx])\n",
      "  File \"/home/lstm/github/PaddleDetection/ppdet/data/source/dataset.py\", line 102, in __getitem__\n",
      "    return self.transform(roidb)\n",
      "  File \"/home/lstm/github/PaddleDetection/ppdet/data/reader.py\", line 65, in __call__\n",
      "    raise e\n",
      "  File \"/home/lstm/github/PaddleDetection/ppdet/data/reader.py\", line 59, in __call__\n",
      "    data = f(data)\n",
      "  File \"/home/lstm/github/PaddleDetection/ppdet/data/transform/operators.py\", line 107, in __call__\n",
      "    sample = self.apply(sample, context)\n",
      "  File \"/home/lstm/github/PaddleDetection/ppdet/data/transform/operators.py\", line 140, in apply\n",
      "    sample['h'] = im.shape[0]\n",
      "AttributeError: 'bytes' object has no attribute 'shape'\n",
      "^C\n"
     ]
    }
   ],
   "source": [
    "configfile = \"../configs/picodet/legacy_model/application/layout_analysis/krcase_layout_test.yml\"\n",
    "slim_configfile = \" ../configs/picodet/legacy_model/application/layout_analysis/krcase_layout_distill.yml\"\n",
    "\n",
    "inference_datafolder = './testdata'\n",
    "testdoc_img_folder = 'adobe_대법원_2020도1007_판결서'\n",
    "weight2use = '20240428'\n",
    "output_dir = './testresults'\n",
    "\n",
    "command = (\n",
    "    \"python3 ../tools/infer.py\",\n",
    "    f\"-c {configfile}\",    \n",
    "    f\"--slim_config {slim_configfile}\",\n",
    "    f\"--infer_dir={inference_datafolder}/{testdoc_img_folder}\",\n",
    "    # f\"--infer_img={inference_datafolder}/{testdoc_img_folder}/0.png\",\n",
    "    f\"-o weights=./trained_weights/output_{weight2use}/best_model/model.pdparams\",\n",
    "    \"--draw_threshold=0.5\",\n",
    "    # \"use_gpu=true\",\n",
    "    \"--use_vdl=True\",\n",
    "    \"--vdl_log_dir=./vdl_log_test\",\n",
    "    f\"--output_dir={output_dir}\"\n",
    "    )\n",
    "command = \" \".join(command)\n",
    "print(command)\n",
    "\n",
    "!{command}\n",
    "\n",
    "\n",
    "\n",
    "                \"-c\",\n",
    "                \"./configs/picodet/legacy_model/application/layout_analysis/CDLA.yml\", \n",
    "                \"--slim_config\",\n",
    "                \"./configs/picodet/legacy_model/application/layout_analysis/picodet_lcnet_x2_5_layout.yml\",\n",
    "                \"--infer_dir=./tuning/testdata/adobe_대법원_2020도1007_판결서\",\n",
    "                \"-o\",\n",
    "                \"weights=./tuning/trained_weights/output_CDLApretrained/model.pdparams\",\n",
    "                \"--draw_threshold=0.5\",\n",
    "                \"--use_vdl=True\",\n",
    "                \"--vdl_log_dir=./tuning/vdl_log_test\",\n",
    "                \"--output_dir=./tuning/testresults\"\n",
    "            ]\n",
    "\n"
   ]
  },
  {
   "cell_type": "code",
   "execution_count": 26,
   "metadata": {},
   "outputs": [
    {
     "data": {
      "text/plain": [
       "'./testdata/adobe_대법원_2020도1007_판결서'"
      ]
     },
     "execution_count": 26,
     "metadata": {},
     "output_type": "execute_result"
    }
   ],
   "source": [
    "f\"{inference_datafolder}/{testdoc_img_folder}\""
   ]
  },
  {
   "cell_type": "markdown",
   "metadata": {},
   "source": [
    "## Deploy (use PaddleOCR)"
   ]
  },
  {
   "cell_type": "markdown",
   "metadata": {},
   "source": [
    "#### Model export (distilled model)\n",
    "https://github.com/PaddlePaddle/PaddleOCR/blob/release/2.7/ppstructure/docs/quickstart_en.md"
   ]
  },
  {
   "cell_type": "code",
   "execution_count": null,
   "metadata": {},
   "outputs": [],
   "source": [
    "model_outpath = './exported_model'\n",
    "\n",
    "command = (\n",
    "    \"python3 ../tools/export_model.py\",\n",
    "    f\"-c {configfile}\",    \n",
    "    f\"--slim_config {slim_configfile}\",    \n",
    "    f\"-o weights=./trained_weights/output_{weight2use}/best_model/model.pdparams\",    \n",
    "    f\"--output_dir={model_outpath}\"\n",
    "    )\n",
    "command = \" \".join(command)\n",
    "print(command)\n"
   ]
  },
  {
   "cell_type": "code",
   "execution_count": null,
   "metadata": {},
   "outputs": [],
   "source": [
    "!{command}"
   ]
  },
  {
   "cell_type": "markdown",
   "metadata": {},
   "source": [
    "#### Model inference (distilled model)\n",
    "\n",
    "| Field | Description | Default |\n",
    "|-|-|-|  \n",
    "| output | result save path | ./output/table |\n",
    "| table_max_len | long side of the image resize in table structure model | 488 |\n",
    "| table_model_dir | Table structure model inference model path | None |\n",
    "| table_char_dict_path | The dictionary path of table structure model | ../ppocr/utils/dict/table_structure_dict.txt |\n",
    "| merge_no_span_structure | In the table recognition model, whether to merge '<td>' and '</td>' | False |\n",
    "| layout_model_dir | Layout analysis model inference model path | None |\n",
    "| layout_dict_path | The dictionary path of layout analysis model | ../ppocr/utils/dict/layout_publaynet_dict.txt |\n",
    "| layout_score_threshold | The box threshold path of layout analysis model | 0.5 |\n",
    "| layout_nms_threshold | The nms threshold path of layout analysis model | 0.5 |\n",
    "| kie_algorithm | kie model algorithm | LayoutXLM |\n",
    "| ser_model_dir | Ser model inference model path | None |\n",
    "| ser_dict_path | The dictionary path of Ser model | ../train_data/XFUND/class_list_xfun.txt |\n",
    "| mode | structure or kie | structure |\n",
    "| image_orientation | Whether to perform image orientation classification in forward | False |\n",
    "| layout | Whether to perform layout analysis in forward | True |\n",
    "| table | Whether to perform table recognition in forward | True |\n",
    "| ocr | Whether to perform ocr for non-table areas in layout analysis. When layout is False, it will be automatically set to False | True |\n",
    "| recovery | Whether to perform layout recovery in forward | False |\n",
    "| save_pdf | Whether to convert docx to pdf when recovery | False |\n",
    "| structure_version | Structure version, optional PP-structure and PP-structurev2 | PP-structure |\n"
   ]
  },
  {
   "cell_type": "code",
   "execution_count": null,
   "metadata": {},
   "outputs": [],
   "source": [
    "# using PPStrcuture class\n",
    "\n",
    "import os\n",
    "import cv2\n",
    "from paddleocr import PPStructure, save_structure_res\n",
    "\n",
    "\n",
    "weight2use = '20240423'\n",
    "output_dir = './inference_output'\n",
    "layout_dict_path = \"./labels/labels_10.txt\"\n",
    "\n",
    "table_engine = PPStructure(\n",
    "    output=output_dir,\n",
    "    table_max_len=None, # 488 \n",
    "    table_model_dir=None,\n",
    "    table_char_dict_path=None, # ../ppocr/utils/dict/table_structure_dict.txt\n",
    "    merge_no_span_structure=False,\n",
    "    layout_model_dir=model_outpath, # None\n",
    "    layout_dict_path=layout_dict_path,\n",
    "    layout_score_threshold=0.5, # 0.5\n",
    "    layout_nms_threshold= 0.3, # 0.5\n",
    "    kie_algorithm=None, # LayoutXLM\n",
    "    ser_model_dir=None,\n",
    "    ser_dict_path=None, #../train_data/XFUND/class_list_xfun.txt\n",
    "    mode=\"structure\",\n",
    "    image_orientation=False,\n",
    "    layout=True,\n",
    "    table=False,\n",
    "    ocr=False,\n",
    "    recovery=False,\n",
    "    save_pdf=False,\n",
    "    structure_version=\"PP-structurev2\",\n",
    "    show_log=True\n",
    "    )\n",
    "\n",
    "inference_datafolder = './testdata'\n",
    "testdoc_img_folder = 'adobe_대법원_2020도1007_판결서'\n",
    "\n",
    "save_folder = f'{output_dir}/visual'\n",
    "img_path = ''\n",
    "# img_dir = f'{inference_datafolder}/{testdoc_img_folder}'\n",
    "img = cv2.imread(img_path)\n",
    "result = table_engine(img)\n",
    "save_structure_res(result, save_folder, os.path.basename(img_path).split('.')[0])\n",
    "\n",
    "for line in result:\n",
    "    line.pop('img')\n",
    "    print(line)"
   ]
  },
  {
   "cell_type": "code",
   "execution_count": null,
   "metadata": {},
   "outputs": [],
   "source": [
    "# # usin predict_system.py\n",
    "# from \n",
    "\n",
    "# python3 predict_system.py --layout_model_dir=inference/picodet_lcnet_x1_0_fgd_layout_cdla_infer \\\n",
    "#                           --image_dir=../DATA/sample_data/판례/png/image61_0.png \\\n",
    "#                           --output=../output \\\n",
    "#                           --table=false \\\n",
    "#                           --ocr=false \\\n",
    "#                           --vis_font_path=../NotoSansKR-Regular.otf \\\n",
    "#                           --layout_dict_path ../ppocr/utils/dict/layout_dict/layout_cdla_dict.txt"
   ]
  }
 ],
 "metadata": {
  "kernelspec": {
   "display_name": "pp261",
   "language": "python",
   "name": "python3"
  },
  "language_info": {
   "codemirror_mode": {
    "name": "ipython",
    "version": 3
   },
   "file_extension": ".py",
   "mimetype": "text/x-python",
   "name": "python",
   "nbconvert_exporter": "python",
   "pygments_lexer": "ipython3",
   "version": "3.8.19"
  }
 },
 "nbformat": 4,
 "nbformat_minor": 2
}
